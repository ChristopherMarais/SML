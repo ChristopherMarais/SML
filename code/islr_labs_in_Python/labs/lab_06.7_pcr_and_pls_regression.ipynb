{
 "cells": [
  {
   "cell_type": "markdown",
   "metadata": {},
   "source": [
    "Adapted from http://www.science.smith.edu/~jcrouser/SDS293/labs/"
   ]
  },
  {
   "cell_type": "code",
   "execution_count": 10,
   "metadata": {},
   "outputs": [],
   "source": [
    "# imports and setup\n",
    "%matplotlib inline\n",
    "\n",
    "import numpy as np\n",
    "import pandas as pd\n",
    "from sklearn.model_selection import KFold\n",
    "import seaborn as sns\n",
    "import matplotlib.pyplot as plt\n",
    "\n",
    "pd.set_option('precision', 4) # number precision for pandas\n",
    "pd.set_option('display.max_rows', 20)\n",
    "pd.set_option('display.max_columns', 12)\n",
    "pd.set_option('display.float_format', '{:20,.5f}'.format) # get rid of scientific notation\n",
    "\n",
    "plt.style.use('seaborn') # pretty matplotlib plots"
   ]
  },
  {
   "cell_type": "code",
   "execution_count": 11,
   "metadata": {},
   "outputs": [],
   "source": [
    "hitters = pd.read_csv('../datasets/Hitters.csv', index_col=0).dropna()\n",
    "hitters.index.name = 'Player'\n",
    "\n",
    "hitters = hitters.iloc[:, [0,1,2,3,4,5,6,7,8,9,10,11,12,13,14,15,16,17,19,18]] # push salary at the end\n",
    "\n",
    "hitters['League'] = pd.get_dummies(hitters['League']).iloc[:, 1]\n",
    "hitters['Division'] = pd.get_dummies(hitters['Division']).iloc[:, 1]\n",
    "hitters['NewLeague'] = pd.get_dummies(hitters['NewLeague']).iloc[:, 1]\n",
    "\n",
    "X = hitters.iloc[:, 0:19]\n",
    "y = hitters.iloc[:, 19]"
   ]
  },
  {
   "cell_type": "markdown",
   "metadata": {},
   "source": [
    "# 6.7.1 Principal Components Regression"
   ]
  },
  {
   "cell_type": "code",
   "execution_count": 12,
   "metadata": {},
   "outputs": [],
   "source": [
    "from sklearn.preprocessing import scale \n",
    "from sklearn.model_selection import cross_val_score\n",
    "from sklearn.model_selection import train_test_split\n",
    "from sklearn.decomposition import PCA\n",
    "from sklearn.linear_model import LinearRegression\n",
    "from sklearn.cross_decomposition import PLSRegression, PLSSVD\n",
    "from sklearn.metrics import mean_squared_error"
   ]
  },
  {
   "cell_type": "code",
   "execution_count": 13,
   "metadata": {
    "scrolled": false
   },
   "outputs": [
    {
     "data": {
      "text/html": [
       "<div>\n",
       "<style scoped>\n",
       "    .dataframe tbody tr th:only-of-type {\n",
       "        vertical-align: middle;\n",
       "    }\n",
       "\n",
       "    .dataframe tbody tr th {\n",
       "        vertical-align: top;\n",
       "    }\n",
       "\n",
       "    .dataframe thead th {\n",
       "        text-align: right;\n",
       "    }\n",
       "</style>\n",
       "<table border=\"1\" class=\"dataframe\">\n",
       "  <thead>\n",
       "    <tr style=\"text-align: right;\">\n",
       "      <th></th>\n",
       "      <th>0</th>\n",
       "      <th>1</th>\n",
       "      <th>2</th>\n",
       "      <th>3</th>\n",
       "      <th>4</th>\n",
       "      <th>5</th>\n",
       "      <th>...</th>\n",
       "      <th>13</th>\n",
       "      <th>14</th>\n",
       "      <th>15</th>\n",
       "      <th>16</th>\n",
       "      <th>17</th>\n",
       "      <th>18</th>\n",
       "    </tr>\n",
       "  </thead>\n",
       "  <tbody>\n",
       "    <tr>\n",
       "      <th>0</th>\n",
       "      <td>-0.00965</td>\n",
       "      <td>1.87052</td>\n",
       "      <td>1.26515</td>\n",
       "      <td>-0.93548</td>\n",
       "      <td>1.10964</td>\n",
       "      <td>1.21197</td>\n",
       "      <td>...</td>\n",
       "      <td>0.38841</td>\n",
       "      <td>0.06360</td>\n",
       "      <td>0.14479</td>\n",
       "      <td>0.08022</td>\n",
       "      <td>0.03814</td>\n",
       "      <td>-0.01925</td>\n",
       "    </tr>\n",
       "    <tr>\n",
       "      <th>1</th>\n",
       "      <td>0.41143</td>\n",
       "      <td>-2.42942</td>\n",
       "      <td>-0.90919</td>\n",
       "      <td>-0.26421</td>\n",
       "      <td>1.23203</td>\n",
       "      <td>1.82662</td>\n",
       "      <td>...</td>\n",
       "      <td>-0.01939</td>\n",
       "      <td>0.06515</td>\n",
       "      <td>0.16106</td>\n",
       "      <td>0.04434</td>\n",
       "      <td>0.01483</td>\n",
       "      <td>-0.00339</td>\n",
       "    </tr>\n",
       "    <tr>\n",
       "      <th>2</th>\n",
       "      <td>3.46682</td>\n",
       "      <td>0.82595</td>\n",
       "      <td>0.55547</td>\n",
       "      <td>-1.61673</td>\n",
       "      <td>-0.85749</td>\n",
       "      <td>-1.02871</td>\n",
       "      <td>...</td>\n",
       "      <td>-0.37620</td>\n",
       "      <td>0.23429</td>\n",
       "      <td>0.01153</td>\n",
       "      <td>-0.21828</td>\n",
       "      <td>0.03783</td>\n",
       "      <td>-0.06650</td>\n",
       "    </tr>\n",
       "    <tr>\n",
       "      <th>3</th>\n",
       "      <td>-2.55832</td>\n",
       "      <td>-0.23098</td>\n",
       "      <td>0.51964</td>\n",
       "      <td>-2.17625</td>\n",
       "      <td>-0.82030</td>\n",
       "      <td>1.49170</td>\n",
       "      <td>...</td>\n",
       "      <td>0.02897</td>\n",
       "      <td>0.04246</td>\n",
       "      <td>0.05304</td>\n",
       "      <td>-0.04444</td>\n",
       "      <td>0.01036</td>\n",
       "      <td>-0.01358</td>\n",
       "    </tr>\n",
       "    <tr>\n",
       "      <th>4</th>\n",
       "      <td>1.02770</td>\n",
       "      <td>-1.57354</td>\n",
       "      <td>1.33138</td>\n",
       "      <td>3.49400</td>\n",
       "      <td>0.98343</td>\n",
       "      <td>0.51368</td>\n",
       "      <td>...</td>\n",
       "      <td>-0.09077</td>\n",
       "      <td>0.04381</td>\n",
       "      <td>0.01230</td>\n",
       "      <td>-0.05059</td>\n",
       "      <td>0.12604</td>\n",
       "      <td>-0.07104</td>\n",
       "    </tr>\n",
       "    <tr>\n",
       "      <th>...</th>\n",
       "      <td>...</td>\n",
       "      <td>...</td>\n",
       "      <td>...</td>\n",
       "      <td>...</td>\n",
       "      <td>...</td>\n",
       "      <td>...</td>\n",
       "      <td>...</td>\n",
       "      <td>...</td>\n",
       "      <td>...</td>\n",
       "      <td>...</td>\n",
       "      <td>...</td>\n",
       "      <td>...</td>\n",
       "      <td>...</td>\n",
       "    </tr>\n",
       "    <tr>\n",
       "      <th>258</th>\n",
       "      <td>-0.33117</td>\n",
       "      <td>-0.16566</td>\n",
       "      <td>0.77589</td>\n",
       "      <td>-1.53670</td>\n",
       "      <td>-1.03502</td>\n",
       "      <td>-0.30630</td>\n",
       "      <td>...</td>\n",
       "      <td>-0.16180</td>\n",
       "      <td>0.22744</td>\n",
       "      <td>-0.22488</td>\n",
       "      <td>0.12649</td>\n",
       "      <td>-0.05540</td>\n",
       "      <td>-0.00974</td>\n",
       "    </tr>\n",
       "    <tr>\n",
       "      <th>259</th>\n",
       "      <td>3.24618</td>\n",
       "      <td>-0.54331</td>\n",
       "      <td>1.20915</td>\n",
       "      <td>2.75402</td>\n",
       "      <td>-1.19752</td>\n",
       "      <td>0.83475</td>\n",
       "      <td>...</td>\n",
       "      <td>0.31812</td>\n",
       "      <td>-0.14481</td>\n",
       "      <td>0.00895</td>\n",
       "      <td>-0.15283</td>\n",
       "      <td>-0.05387</td>\n",
       "      <td>-0.06228</td>\n",
       "    </tr>\n",
       "    <tr>\n",
       "      <th>260</th>\n",
       "      <td>-1.09461</td>\n",
       "      <td>-0.75139</td>\n",
       "      <td>-0.93594</td>\n",
       "      <td>1.07235</td>\n",
       "      <td>0.70591</td>\n",
       "      <td>-0.64448</td>\n",
       "      <td>...</td>\n",
       "      <td>0.09228</td>\n",
       "      <td>0.05604</td>\n",
       "      <td>-0.10349</td>\n",
       "      <td>-0.07874</td>\n",
       "      <td>0.06720</td>\n",
       "      <td>0.01319</td>\n",
       "    </tr>\n",
       "    <tr>\n",
       "      <th>261</th>\n",
       "      <td>1.97768</td>\n",
       "      <td>-2.18452</td>\n",
       "      <td>-0.28201</td>\n",
       "      <td>-0.21687</td>\n",
       "      <td>-0.69487</td>\n",
       "      <td>3.51469</td>\n",
       "      <td>...</td>\n",
       "      <td>-0.23276</td>\n",
       "      <td>0.02105</td>\n",
       "      <td>-0.26228</td>\n",
       "      <td>-0.01441</td>\n",
       "      <td>0.02292</td>\n",
       "      <td>-0.01053</td>\n",
       "    </tr>\n",
       "    <tr>\n",
       "      <th>262</th>\n",
       "      <td>1.83300</td>\n",
       "      <td>-0.30110</td>\n",
       "      <td>-1.05532</td>\n",
       "      <td>0.49298</td>\n",
       "      <td>0.91640</td>\n",
       "      <td>0.27527</td>\n",
       "      <td>...</td>\n",
       "      <td>0.02377</td>\n",
       "      <td>0.66084</td>\n",
       "      <td>-0.18621</td>\n",
       "      <td>-0.30257</td>\n",
       "      <td>-0.07553</td>\n",
       "      <td>-0.04060</td>\n",
       "    </tr>\n",
       "  </tbody>\n",
       "</table>\n",
       "<p>263 rows × 19 columns</p>\n",
       "</div>"
      ],
      "text/plain": [
       "                      0                    1                    2   \\\n",
       "0               -0.00965              1.87052              1.26515   \n",
       "1                0.41143             -2.42942             -0.90919   \n",
       "2                3.46682              0.82595              0.55547   \n",
       "3               -2.55832             -0.23098              0.51964   \n",
       "4                1.02770             -1.57354              1.33138   \n",
       "..                   ...                  ...                  ...   \n",
       "258             -0.33117             -0.16566              0.77589   \n",
       "259              3.24618             -0.54331              1.20915   \n",
       "260             -1.09461             -0.75139             -0.93594   \n",
       "261              1.97768             -2.18452             -0.28201   \n",
       "262              1.83300             -0.30110             -1.05532   \n",
       "\n",
       "                      3                    4                    5   ...  \\\n",
       "0               -0.93548              1.10964              1.21197  ...   \n",
       "1               -0.26421              1.23203              1.82662  ...   \n",
       "2               -1.61673             -0.85749             -1.02871  ...   \n",
       "3               -2.17625             -0.82030              1.49170  ...   \n",
       "4                3.49400              0.98343              0.51368  ...   \n",
       "..                   ...                  ...                  ...  ...   \n",
       "258             -1.53670             -1.03502             -0.30630  ...   \n",
       "259              2.75402             -1.19752              0.83475  ...   \n",
       "260              1.07235              0.70591             -0.64448  ...   \n",
       "261             -0.21687             -0.69487              3.51469  ...   \n",
       "262              0.49298              0.91640              0.27527  ...   \n",
       "\n",
       "                      13                   14                   15  \\\n",
       "0                0.38841              0.06360              0.14479   \n",
       "1               -0.01939              0.06515              0.16106   \n",
       "2               -0.37620              0.23429              0.01153   \n",
       "3                0.02897              0.04246              0.05304   \n",
       "4               -0.09077              0.04381              0.01230   \n",
       "..                   ...                  ...                  ...   \n",
       "258             -0.16180              0.22744             -0.22488   \n",
       "259              0.31812             -0.14481              0.00895   \n",
       "260              0.09228              0.05604             -0.10349   \n",
       "261             -0.23276              0.02105             -0.26228   \n",
       "262              0.02377              0.66084             -0.18621   \n",
       "\n",
       "                      16                   17                   18  \n",
       "0                0.08022              0.03814             -0.01925  \n",
       "1                0.04434              0.01483             -0.00339  \n",
       "2               -0.21828              0.03783             -0.06650  \n",
       "3               -0.04444              0.01036             -0.01358  \n",
       "4               -0.05059              0.12604             -0.07104  \n",
       "..                   ...                  ...                  ...  \n",
       "258              0.12649             -0.05540             -0.00974  \n",
       "259             -0.15283             -0.05387             -0.06228  \n",
       "260             -0.07874              0.06720              0.01319  \n",
       "261             -0.01441              0.02292             -0.01053  \n",
       "262             -0.30257             -0.07553             -0.04060  \n",
       "\n",
       "[263 rows x 19 columns]"
      ]
     },
     "execution_count": 13,
     "metadata": {},
     "output_type": "execute_result"
    }
   ],
   "source": [
    "pca = PCA()\n",
    "X_pca = pca.fit_transform(scale(X))\n",
    "pd.DataFrame(X_pca)"
   ]
  },
  {
   "cell_type": "code",
   "execution_count": 17,
   "metadata": {},
   "outputs": [
    {
     "data": {
      "text/plain": [
       "263"
      ]
     },
     "execution_count": 17,
     "metadata": {},
     "output_type": "execute_result"
    }
   ],
   "source": [
    "len(X_pca)"
   ]
  },
  {
   "cell_type": "code",
   "execution_count": 19,
   "metadata": {},
   "outputs": [
    {
     "data": {
      "image/png": "[encoded data removed]",
      "text/plain": [
       "<Figure size 576x396 with 1 Axes>"
      ]
     },
     "metadata": {},
     "output_type": "display_data"
    }
   ],
   "source": [
    "# 10-fold CV, with shuffle\n",
    "n = len(X_pca)\n",
    "get_nsplits = KFold(n_splits=10, shuffle=True, random_state=42)\n",
    "k10 = get_nsplits.get_n_splits(n)\n",
    "lin_reg = LinearRegression()\n",
    "rmse = []\n",
    "\n",
    "# MSE with only the intercept\n",
    "score = -1 * cross_val_score(lin_reg, np.ones((n,1)), y, cv=k10, scoring='neg_mean_squared_error').mean()\n",
    "rmse.append(np.sqrt(score))\n",
    "\n",
    "# MSE for the 19 principle components\n",
    "for i in np.arange(1, 20):\n",
    "    score = -1 * cross_val_score(lin_reg, X_pca[:,:i], y, cv=k10, scoring='neg_mean_squared_error').mean()\n",
    "    rmse.append(np.sqrt(score))\n",
    "    \n",
    "min_rmse = np.array(rmse).argmin()\n",
    "    \n",
    "plt.plot(rmse, '-D')\n",
    "plt.plot(rmse, markevery=[min_rmse], marker='X', lw=0, color='red')\n",
    "plt.xlabel('# of PC')\n",
    "plt.ylabel('RMSE');"
   ]
  },
  {
   "cell_type": "code",
   "execution_count": 20,
   "metadata": {},
   "outputs": [
    {
     "data": {
      "text/plain": [
       "array([ 38.31423957,  60.15531541,  70.8416746 ,  79.03419435,\n",
       "        84.29027516,  88.63477938,  92.26288766,  94.96304322,\n",
       "        96.28269124,  97.25541298,  97.97775424,  98.64870031,\n",
       "        99.15178693,  99.4730334 ,  99.74659124,  99.89398793,\n",
       "        99.96815949,  99.99375108, 100.        ])"
      ]
     },
     "execution_count": 20,
     "metadata": {},
     "output_type": "execute_result"
    }
   ],
   "source": [
    "np.cumsum(pca.explained_variance_ratio_*100)"
   ]
  },
  {
   "cell_type": "code",
   "execution_count": 22,
   "metadata": {},
   "outputs": [
    {
     "data": {
      "image/png": "[encoded data removed]",
      "text/plain": [
       "<Figure size 576x396 with 1 Axes>"
      ]
     },
     "metadata": {},
     "output_type": "display_data"
    }
   ],
   "source": [
    "# validation set\n",
    "X_train, X_test, y_train, y_test = train_test_split(X, y, test_size=0.5, random_state=1)\n",
    "\n",
    "pca2 = PCA()\n",
    "X_train_pca2 = pca2.fit_transform(scale(X_train))\n",
    "\n",
    "# 10-fold CV, with shuffle\n",
    "n = len(X_train_pca2)\n",
    "get_nsplits = KFold(n_splits=10, shuffle=True, random_state=42)\n",
    "k102 = get_nsplits.get_n_splits(n)\n",
    "\n",
    "lin_reg2 = LinearRegression()\n",
    "rmse2 = []\n",
    "\n",
    "# MSE with only the intercept\n",
    "score = -1 * cross_val_score(lin_reg2, np.ones((n,1)), y_train, cv=k102, scoring='neg_mean_squared_error').mean()\n",
    "rmse2.append(np.sqrt(score))\n",
    "\n",
    "# MSE for the 19 principle components\n",
    "for i in np.arange(1, 20):\n",
    "    score = -1 * cross_val_score(lin_reg2, X_train_pca2[:,:i], y_train, cv=k102, scoring='neg_mean_squared_error').mean()\n",
    "    rmse2.append(np.sqrt(score))\n",
    "\n",
    "min_rmse = np.array(rmse2).argmin()\n",
    "    \n",
    "plt.plot(rmse2, '-D')\n",
    "plt.plot(rmse2, markevery=[min_rmse], marker='X', lw=0, color='red')\n",
    "plt.xlabel('# of PC')\n",
    "plt.ylabel('RMSE')\n",
    "plt.xticks([0, 5, 10, 15, 20]);"
   ]
  },
  {
   "cell_type": "code",
   "execution_count": 23,
   "metadata": {},
   "outputs": [
    {
     "data": {
      "text/plain": [
       "114098.05632066303"
      ]
     },
     "execution_count": 23,
     "metadata": {},
     "output_type": "execute_result"
    }
   ],
   "source": [
    "X_train_pca3 = pca2.fit_transform(scale(X_train))[:, :7]\n",
    "X_test_pca3 = pca2.fit_transform(scale(X_test))[:, :7]\n",
    "\n",
    "lin_reg3 = LinearRegression()\n",
    "lin_reg3.fit(X_train_pca3, y_train)\n",
    "pred_pca3 = lin_reg3.predict(X_test_pca3)\n",
    "\n",
    "mean_squared_error(y_test, pred_pca3)"
   ]
  },
  {
   "cell_type": "markdown",
   "metadata": {},
   "source": [
    "# 6.7.2 Partial Least Squares"
   ]
  },
  {
   "cell_type": "code",
   "execution_count": 25,
   "metadata": {},
   "outputs": [
    {
     "data": {
      "image/png": "[encoded data removed]",
      "text/plain": [
       "<Figure size 576x396 with 1 Axes>"
      ]
     },
     "metadata": {},
     "output_type": "display_data"
    }
   ],
   "source": [
    "# 10-fold CV, with shuffle\n",
    "n = len(X_train)\n",
    "k102 = get_nsplits.get_n_splits(n)\n",
    "\n",
    "rmse = []\n",
    "\n",
    "for i in np.arange(1, 20):\n",
    "    pls = PLSRegression(n_components=i)\n",
    "    score = -1 * cross_val_score(pls, scale(X_train), y_train, cv=k10, scoring='neg_mean_squared_error').mean()\n",
    "    rmse.append(np.sqrt(score))\n",
    "    \n",
    "min_rmse = np.array(rmse).argmin()\n",
    "\n",
    "plt.plot(rmse, '-D')\n",
    "plt.plot(rmse, markevery=[min_rmse], marker='X', lw=0, color='red')\n",
    "plt.xlabel('# of PC')\n",
    "plt.ylabel('RMSE')\n",
    "plt.xticks([0, 5, 10, 15, 20]);"
   ]
  },
  {
   "cell_type": "code",
   "execution_count": 26,
   "metadata": {},
   "outputs": [
    {
     "data": {
      "text/plain": [
       "104838.51042760801"
      ]
     },
     "execution_count": 26,
     "metadata": {},
     "output_type": "execute_result"
    }
   ],
   "source": [
    "pls = PLSRegression(n_components=2)\n",
    "pls.fit(scale(X_train), y_train)\n",
    "\n",
    "mean_squared_error(y_test, pls.predict(scale(X_test)))"
   ]
  }
 ],
 "metadata": {
  "kernelspec": {
   "display_name": "Python 3",
   "language": "python",
   "name": "python3"
  },
  "language_info": {
   "codemirror_mode": {
    "name": "ipython",
    "version": 3
   },
   "file_extension": ".py",
   "mimetype": "text/x-python",
   "name": "python",
   "nbconvert_exporter": "python",
   "pygments_lexer": "ipython3",
   "version": "3.7.6"
  }
 },
 "nbformat": 4,
 "nbformat_minor": 2
}
