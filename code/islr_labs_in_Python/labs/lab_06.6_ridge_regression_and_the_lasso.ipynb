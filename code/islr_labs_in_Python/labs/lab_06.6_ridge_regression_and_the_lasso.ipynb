{
 "cells": [
  {
   "cell_type": "markdown",
   "metadata": {},
   "source": [
    "Heavily borrows from http://www.science.smith.edu/~jcrouser/SDS293/labs/"
   ]
  },
  {
   "cell_type": "code",
   "execution_count": 1,
   "metadata": {},
   "outputs": [],
   "source": [
    "# imports and setup\n",
    "%matplotlib inline\n",
    "\n",
    "import numpy as np\n",
    "import pandas as pd\n",
    "\n",
    "import seaborn as sns\n",
    "import matplotlib.pyplot as plt\n",
    "\n",
    "pd.set_option('precision', 4) # number precision for pandas\n",
    "pd.set_option('display.max_rows', 20)\n",
    "pd.set_option('display.max_columns', 12)\n",
    "pd.set_option('display.float_format', '{:20,.5f}'.format) # get rid of scientific notation\n",
    "\n",
    "plt.style.use('seaborn') # pretty matplotlib plots"
   ]
  },
  {
   "cell_type": "code",
   "execution_count": 2,
   "metadata": {},
   "outputs": [],
   "source": [
    "hitters = pd.read_csv('../datasets/Hitters.csv', index_col=0).dropna()\n",
    "hitters.index.name = 'Player'\n",
    "\n",
    "hitters = hitters.iloc[:, [0,1,2,3,4,5,6,7,8,9,10,11,12,13,14,15,16,17,19,18]] # push salary at the end\n",
    "\n",
    "hitters['League'] = pd.get_dummies(hitters['League']).iloc[:, 1]\n",
    "hitters['Division'] = pd.get_dummies(hitters['Division']).iloc[:, 1]\n",
    "hitters['NewLeague'] = pd.get_dummies(hitters['NewLeague']).iloc[:, 1]\n",
    "\n",
    "X = hitters.iloc[:, 0:19]\n",
    "y = hitters.iloc[:, 19]"
   ]
  },
  {
   "cell_type": "markdown",
   "metadata": {},
   "source": [
    "# 6.6.1 Ridge Regression"
   ]
  },
  {
   "cell_type": "code",
   "execution_count": 3,
   "metadata": {},
   "outputs": [],
   "source": [
    "from sklearn.linear_model import Ridge, RidgeCV, Lasso, LassoCV\n",
    "from sklearn.preprocessing import scale\n",
    "\n",
    "grid = 10 ** np.linspace(3,-2,100)\n",
    "\n",
    "ridge_model = Ridge(normalize=True)\n",
    "coefs = []\n",
    "\n",
    "for a in grid:\n",
    "    ridge_model.set_params(alpha=a)\n",
    "    ridge_model.fit(X, y)\n",
    "    coefs.append(ridge_model.coef_)"
   ]
  },
  {
   "cell_type": "code",
   "execution_count": 4,
   "metadata": {},
   "outputs": [
    {
     "data": {
      "text/plain": [
       "AtBat                    0.10768\n",
       "Hits                     0.48869\n",
       "HmRun                    1.31796\n",
       "Runs                     0.75786\n",
       "RBI                      0.73100\n",
       "Walks                    1.00938\n",
       "Years                    2.78921\n",
       "CAtBat                   0.00930\n",
       "CHits                    0.03704\n",
       "CHmRun                   0.27235\n",
       "CRuns                    0.07422\n",
       "CRBI                     0.07695\n",
       "CWalks                   0.06917\n",
       "League                   6.81267\n",
       "Division               -33.62792\n",
       "PutOuts                  0.07705\n",
       "Assists                  0.01026\n",
       "Errors                  -0.30280\n",
       "NewLeague                5.36069\n",
       "dtype: float64"
      ]
     },
     "execution_count": 4,
     "metadata": {},
     "output_type": "execute_result"
    }
   ],
   "source": [
    "grid[49], \n",
    "pd.Series(coefs[49], index=X.columns)"
   ]
  },
  {
   "cell_type": "code",
   "execution_count": 5,
   "metadata": {},
   "outputs": [
    {
     "data": {
      "image/png": "[encoded data removed]",
      "text/plain": [
       "<Figure size 576x396 with 1 Axes>"
      ]
     },
     "metadata": {},
     "output_type": "display_data"
    }
   ],
   "source": [
    "ax = plt.gca()\n",
    "ax.plot(grid, coefs)\n",
    "ax.set_xscale('log')\n",
    "\n",
    "plt.axis('tight')\n",
    "plt.xlabel('alpha')\n",
    "plt.ylabel('weights');"
   ]
  },
  {
   "cell_type": "code",
   "execution_count": 6,
   "metadata": {},
   "outputs": [],
   "source": [
    "from sklearn.model_selection import train_test_split\n",
    "from sklearn.metrics import mean_squared_error\n",
    "\n",
    "X_train, X_test, y_train, y_test = train_test_split(X, y, test_size=0.5, random_state=1)"
   ]
  },
  {
   "cell_type": "code",
   "execution_count": 7,
   "metadata": {},
   "outputs": [
    {
     "name": "stdout",
     "output_type": "stream",
     "text": [
      "AtBat                    0.09866\n",
      "Hits                     0.44609\n",
      "HmRun                    1.41211\n",
      "Runs                     0.66077\n",
      "RBI                      0.84340\n",
      "Walks                    1.00847\n",
      "Years                    2.77988\n",
      "CAtBat                   0.00824\n",
      "CHits                    0.03415\n",
      "CHmRun                   0.26863\n",
      "CRuns                    0.07041\n",
      "CRBI                     0.07006\n",
      "CWalks                   0.08279\n",
      "League                   4.24105\n",
      "Division               -30.76888\n",
      "PutOuts                  0.10475\n",
      "Assists                 -0.00374\n",
      "Errors                   0.26836\n",
      "NewLeague                4.12347\n",
      "dtype: float64\n",
      "MSE: 106216.52238005561\n"
     ]
    }
   ],
   "source": [
    "# \"good\" ridge model\n",
    "ridge2 = Ridge(alpha=4, normalize=True)\n",
    "ridge2_fit = ridge2.fit(X_train, y_train)\n",
    "y_pred2 = ridge2.predict(X_test)\n",
    "\n",
    "print(pd.Series(ridge2_fit.coef_, index=X.columns))\n",
    "print('MSE:', mean_squared_error(y_test, y_pred2))"
   ]
  },
  {
   "cell_type": "code",
   "execution_count": 8,
   "metadata": {},
   "outputs": [
    {
     "name": "stdout",
     "output_type": "stream",
     "text": [
      "AtBat                    0.00000\n",
      "Hits                     0.00000\n",
      "HmRun                    0.00000\n",
      "Runs                     0.00000\n",
      "RBI                      0.00000\n",
      "Walks                    0.00000\n",
      "Years                    0.00000\n",
      "CAtBat                   0.00000\n",
      "CHits                    0.00000\n",
      "CHmRun                   0.00000\n",
      "CRuns                    0.00000\n",
      "CRBI                     0.00000\n",
      "CWalks                   0.00000\n",
      "League                  -0.00000\n",
      "Division                -0.00000\n",
      "PutOuts                  0.00000\n",
      "Assists                 -0.00000\n",
      "Errors                   0.00000\n",
      "NewLeague               -0.00000\n",
      "dtype: float64\n",
      "MSE: 172862.23580379886\n"
     ]
    }
   ],
   "source": [
    "# very high lambda\n",
    "ridge3 = Ridge(alpha=1e10, normalize=True)\n",
    "ridge3_fit = ridge3.fit(X_train, y_train)\n",
    "y_pred3 = ridge3.predict(X_test)\n",
    "\n",
    "print(pd.Series(ridge3_fit.coef_, index=X.columns))\n",
    "print('MSE:', mean_squared_error(y_test, y_pred3))"
   ]
  },
  {
   "cell_type": "code",
   "execution_count": 9,
   "metadata": {},
   "outputs": [
    {
     "name": "stdout",
     "output_type": "stream",
     "text": [
      "AtBat                   -1.82111\n",
      "Hits                     4.25916\n",
      "HmRun                   -4.77340\n",
      "Runs                    -0.03876\n",
      "RBI                      3.98458\n",
      "Walks                    3.47013\n",
      "Years                    9.49824\n",
      "CAtBat                  -0.60513\n",
      "CHits                    2.17498\n",
      "CHmRun                   2.97931\n",
      "CRuns                    0.26636\n",
      "CRBI                    -0.59846\n",
      "CWalks                   0.17138\n",
      "League                 133.74316\n",
      "Division              -113.74387\n",
      "PutOuts                  0.42106\n",
      "Assists                  0.46438\n",
      "Errors                  -6.02458\n",
      "NewLeague              -81.92776\n",
      "dtype: float64\n",
      "MSE: 116690.46856660453\n"
     ]
    }
   ],
   "source": [
    "# lambda=0 -> OLS\n",
    "ridge4 = Ridge(alpha=0, normalize=True)\n",
    "ridge4_fit = ridge4.fit(X_train, y_train)\n",
    "y_pred4 = ridge4.predict(X_test)\n",
    "\n",
    "print(pd.Series(ridge4_fit.coef_, index=X.columns))\n",
    "print('MSE:', mean_squared_error(y_test, y_pred4))"
   ]
  },
  {
   "cell_type": "code",
   "execution_count": 10,
   "metadata": {},
   "outputs": [
    {
     "data": {
      "text/plain": [
       "0.5857020818056667"
      ]
     },
     "execution_count": 10,
     "metadata": {},
     "output_type": "execute_result"
    }
   ],
   "source": [
    "# cross validated ridge (10-fold)\n",
    "ridge_cv = RidgeCV(alphas=grid, normalize=True, scoring='neg_mean_squared_error')\n",
    "ridge_cv.fit(X_train, y_train)\n",
    "ridge_cv.alpha_"
   ]
  },
  {
   "cell_type": "code",
   "execution_count": 11,
   "metadata": {
    "scrolled": false
   },
   "outputs": [
    {
     "name": "stdout",
     "output_type": "stream",
     "text": [
      "AtBat                   -0.01054\n",
      "Hits                     0.85783\n",
      "HmRun                   -0.25559\n",
      "Runs                     0.72445\n",
      "RBI                      1.31289\n",
      "Walks                    2.08091\n",
      "Years                    1.24184\n",
      "CAtBat                   0.00674\n",
      "CHits                    0.05185\n",
      "CHmRun                   0.50997\n",
      "CRuns                    0.10642\n",
      "CRBI                     0.12755\n",
      "CWalks                   0.09931\n",
      "League                  18.74612\n",
      "Division               -91.61325\n",
      "PutOuts                  0.27850\n",
      "Assists                 -0.01733\n",
      "Errors                  -0.30212\n",
      "NewLeague                9.99140\n",
      "dtype: float64\n",
      "MSE: 99805.36301929558\n"
     ]
    }
   ],
   "source": [
    "# cv_lambda\n",
    "ridge5 = Ridge(alpha=ridge_cv.alpha_, normalize=True)\n",
    "ridge5_fit = ridge5.fit(X_train, y_train)\n",
    "y_pred5 = ridge5.predict(X_test)\n",
    "\n",
    "print(pd.Series(ridge5_fit.coef_, index=X.columns))\n",
    "print('MSE:', mean_squared_error(y_test, y_pred5))"
   ]
  },
  {
   "cell_type": "markdown",
   "metadata": {},
   "source": [
    "# 6.6.2 The Lasso"
   ]
  },
  {
   "cell_type": "code",
   "execution_count": 12,
   "metadata": {},
   "outputs": [],
   "source": [
    "from sklearn.preprocessing import scale\n",
    "\n",
    "grid = 10 ** np.linspace(3,-2,100)\n",
    "\n",
    "lasso_model = Lasso(normalize=True, max_iter=10000) # max_iter=10000 for removing ConvergenceWarning\n",
    "coefs = []\n",
    "\n",
    "for a in grid:\n",
    "    lasso_model.set_params(alpha=a)\n",
    "    lasso_model.fit(scale(X_train), y_train)\n",
    "    coefs.append(lasso_model.coef_)"
   ]
  },
  {
   "cell_type": "code",
   "execution_count": 13,
   "metadata": {},
   "outputs": [
    {
     "data": {
      "image/png": "[encoded data removed]",
      "text/plain": [
       "<Figure size 576x396 with 1 Axes>"
      ]
     },
     "metadata": {},
     "output_type": "display_data"
    }
   ],
   "source": [
    "ax = plt.gca()\n",
    "ax.plot(grid, coefs)\n",
    "ax.set_xscale('log')\n",
    "\n",
    "plt.axis('tight')\n",
    "plt.xlabel('alpha')\n",
    "plt.ylabel('weights');"
   ]
  },
  {
   "cell_type": "code",
   "execution_count": 14,
   "metadata": {},
   "outputs": [
    {
     "data": {
      "text/plain": [
       "2.364489412645407"
      ]
     },
     "execution_count": 14,
     "metadata": {},
     "output_type": "execute_result"
    }
   ],
   "source": [
    "lasso_cv = LassoCV(alphas=grid, max_iter=100000, normalize=True, cv=10)\n",
    "lasso_cv.fit(X_train, y_train)\n",
    "lasso_cv.alpha_"
   ]
  },
  {
   "cell_type": "code",
   "execution_count": 15,
   "metadata": {},
   "outputs": [
    {
     "name": "stdout",
     "output_type": "stream",
     "text": [
      "AtBat                    0.00000\n",
      "Hits                     1.08587\n",
      "HmRun                    0.00000\n",
      "Runs                     0.00000\n",
      "RBI                      0.00000\n",
      "Walks                    2.91350\n",
      "Years                    0.00000\n",
      "CAtBat                   0.00000\n",
      "CHits                    0.00000\n",
      "CHmRun                   0.22134\n",
      "CRuns                    0.00000\n",
      "CRBI                     0.51447\n",
      "CWalks                   0.00000\n",
      "League                   0.00000\n",
      "Division               -89.91394\n",
      "PutOuts                  0.36912\n",
      "Assists                 -0.00000\n",
      "Errors                  -0.00000\n",
      "NewLeague                0.00000\n",
      "dtype: float64\n",
      "MSE: 104933.7532671472\n"
     ]
    }
   ],
   "source": [
    "lasso2 = Lasso(alpha=lasso_cv.alpha_, normalize=True, max_iter=10000)\n",
    "lasso2_fit = lasso2.fit(X_train, y_train)\n",
    "y_pred2 = lasso2_fit.predict(X_test)\n",
    "\n",
    "print(pd.Series(lasso2_fit.coef_, index=X.columns))\n",
    "print('MSE:', mean_squared_error(y_test, y_pred2))"
   ]
  }
 ],
 "metadata": {
  "kernelspec": {
   "display_name": "Python 3",
   "language": "python",
   "name": "python3"
  },
  "language_info": {
   "codemirror_mode": {
    "name": "ipython",
    "version": 3
   },
   "file_extension": ".py",
   "mimetype": "text/x-python",
   "name": "python",
   "nbconvert_exporter": "python",
   "pygments_lexer": "ipython3",
   "version": "3.7.6"
  }
 },
 "nbformat": 4,
 "nbformat_minor": 2
}
