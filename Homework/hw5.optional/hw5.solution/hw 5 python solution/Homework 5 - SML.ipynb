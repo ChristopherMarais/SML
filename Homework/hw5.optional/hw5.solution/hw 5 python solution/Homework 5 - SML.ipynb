{
 "cells": [
  {
   "cell_type": "code",
   "execution_count": 2,
   "metadata": {},
   "outputs": [],
   "source": [
    "import numpy as np\n",
    "from scipy import stats\n",
    "import pandas as pd\n",
    "import random\n",
    "from sklearn.linear_model import LogisticRegression\n",
    "from sklearn.model_selection import train_test_split\n",
    "from sklearn.metrics import confusion_matrix\n",
    "import math\n",
    "import matplotlib.pyplot as plt\n",
    "from numpy.linalg import matrix_rank\n",
    "from scipy.stats import rankdata\n",
    "import statsmodels.api as sm\n",
    "import statsmodels.formula.api as smf\n"
   ]
  },
  {
   "cell_type": "markdown",
   "metadata": {},
   "source": [
    "CHR 5.5 [15pt]\n",
    "\n",
    "In Chapter 4, we used logistic regression to predict the probability of default using income and balance on\n",
    "the Default data set. We will now estimate the test error of this logistic regression model using the validation\n",
    "set approach. Do not forget to set a random seed before beginning your analysis."
   ]
  },
  {
   "cell_type": "code",
   "execution_count": 3,
   "metadata": {},
   "outputs": [],
   "source": [
    "Default = pd.read_csv(\"Default.csv\")"
   ]
  },
  {
   "cell_type": "code",
   "execution_count": 4,
   "metadata": {},
   "outputs": [
    {
     "data": {
      "text/html": [
       "<div>\n",
       "<style scoped>\n",
       "    .dataframe tbody tr th:only-of-type {\n",
       "        vertical-align: middle;\n",
       "    }\n",
       "\n",
       "    .dataframe tbody tr th {\n",
       "        vertical-align: top;\n",
       "    }\n",
       "\n",
       "    .dataframe thead th {\n",
       "        text-align: right;\n",
       "    }\n",
       "</style>\n",
       "<table border=\"1\" class=\"dataframe\">\n",
       "  <thead>\n",
       "    <tr style=\"text-align: right;\">\n",
       "      <th></th>\n",
       "      <th>balance</th>\n",
       "      <th>income</th>\n",
       "    </tr>\n",
       "  </thead>\n",
       "  <tbody>\n",
       "    <tr>\n",
       "      <th>count</th>\n",
       "      <td>10000.000000</td>\n",
       "      <td>10000.000000</td>\n",
       "    </tr>\n",
       "    <tr>\n",
       "      <th>mean</th>\n",
       "      <td>835.374886</td>\n",
       "      <td>33516.981876</td>\n",
       "    </tr>\n",
       "    <tr>\n",
       "      <th>std</th>\n",
       "      <td>483.714985</td>\n",
       "      <td>13336.639563</td>\n",
       "    </tr>\n",
       "    <tr>\n",
       "      <th>min</th>\n",
       "      <td>0.000000</td>\n",
       "      <td>771.967729</td>\n",
       "    </tr>\n",
       "    <tr>\n",
       "      <th>25%</th>\n",
       "      <td>481.731105</td>\n",
       "      <td>21340.462903</td>\n",
       "    </tr>\n",
       "    <tr>\n",
       "      <th>50%</th>\n",
       "      <td>823.636973</td>\n",
       "      <td>34552.644802</td>\n",
       "    </tr>\n",
       "    <tr>\n",
       "      <th>75%</th>\n",
       "      <td>1166.308386</td>\n",
       "      <td>43807.729272</td>\n",
       "    </tr>\n",
       "    <tr>\n",
       "      <th>max</th>\n",
       "      <td>2654.322576</td>\n",
       "      <td>73554.233495</td>\n",
       "    </tr>\n",
       "  </tbody>\n",
       "</table>\n",
       "</div>"
      ],
      "text/plain": [
       "            balance        income\n",
       "count  10000.000000  10000.000000\n",
       "mean     835.374886  33516.981876\n",
       "std      483.714985  13336.639563\n",
       "min        0.000000    771.967729\n",
       "25%      481.731105  21340.462903\n",
       "50%      823.636973  34552.644802\n",
       "75%     1166.308386  43807.729272\n",
       "max     2654.322576  73554.233495"
      ]
     },
     "execution_count": 4,
     "metadata": {},
     "output_type": "execute_result"
    }
   ],
   "source": [
    "Default.describe()"
   ]
  },
  {
   "cell_type": "code",
   "execution_count": 5,
   "metadata": {},
   "outputs": [
    {
     "name": "stdout",
     "output_type": "stream",
     "text": [
      "<class 'pandas.core.frame.DataFrame'>\n",
      "RangeIndex: 10000 entries, 0 to 9999\n",
      "Data columns (total 4 columns):\n",
      " #   Column   Non-Null Count  Dtype  \n",
      "---  ------   --------------  -----  \n",
      " 0   default  10000 non-null  object \n",
      " 1   student  10000 non-null  object \n",
      " 2   balance  10000 non-null  float64\n",
      " 3   income   10000 non-null  float64\n",
      "dtypes: float64(2), object(2)\n",
      "memory usage: 312.6+ KB\n"
     ]
    }
   ],
   "source": [
    "Default.info()"
   ]
  },
  {
   "cell_type": "code",
   "execution_count": 6,
   "metadata": {},
   "outputs": [
    {
     "data": {
      "text/html": [
       "<div>\n",
       "<style scoped>\n",
       "    .dataframe tbody tr th:only-of-type {\n",
       "        vertical-align: middle;\n",
       "    }\n",
       "\n",
       "    .dataframe tbody tr th {\n",
       "        vertical-align: top;\n",
       "    }\n",
       "\n",
       "    .dataframe thead th {\n",
       "        text-align: right;\n",
       "    }\n",
       "</style>\n",
       "<table border=\"1\" class=\"dataframe\">\n",
       "  <thead>\n",
       "    <tr style=\"text-align: right;\">\n",
       "      <th></th>\n",
       "      <th>balance</th>\n",
       "      <th>income</th>\n",
       "      <th>default_Yes</th>\n",
       "      <th>student_Yes</th>\n",
       "    </tr>\n",
       "  </thead>\n",
       "  <tbody>\n",
       "    <tr>\n",
       "      <th>0</th>\n",
       "      <td>729.526495</td>\n",
       "      <td>44361.625074</td>\n",
       "      <td>0.0</td>\n",
       "      <td>0.0</td>\n",
       "    </tr>\n",
       "    <tr>\n",
       "      <th>1</th>\n",
       "      <td>817.180407</td>\n",
       "      <td>12106.134700</td>\n",
       "      <td>0.0</td>\n",
       "      <td>1.0</td>\n",
       "    </tr>\n",
       "    <tr>\n",
       "      <th>2</th>\n",
       "      <td>1073.549164</td>\n",
       "      <td>31767.138947</td>\n",
       "      <td>0.0</td>\n",
       "      <td>0.0</td>\n",
       "    </tr>\n",
       "    <tr>\n",
       "      <th>3</th>\n",
       "      <td>529.250605</td>\n",
       "      <td>35704.493935</td>\n",
       "      <td>0.0</td>\n",
       "      <td>0.0</td>\n",
       "    </tr>\n",
       "    <tr>\n",
       "      <th>4</th>\n",
       "      <td>785.655883</td>\n",
       "      <td>38463.495879</td>\n",
       "      <td>0.0</td>\n",
       "      <td>0.0</td>\n",
       "    </tr>\n",
       "  </tbody>\n",
       "</table>\n",
       "</div>"
      ],
      "text/plain": [
       "       balance        income  default_Yes  student_Yes\n",
       "0   729.526495  44361.625074          0.0          0.0\n",
       "1   817.180407  12106.134700          0.0          1.0\n",
       "2  1073.549164  31767.138947          0.0          0.0\n",
       "3   529.250605  35704.493935          0.0          0.0\n",
       "4   785.655883  38463.495879          0.0          0.0"
      ]
     },
     "metadata": {},
     "output_type": "display_data"
    }
   ],
   "source": [
    "Default = Default.reset_index().drop('index', axis=1)\n",
    "\n",
    "# Check for missing\n",
    "assert Default.isna().sum().sum() == 0\n",
    "\n",
    "# Rationalise types\n",
    "Default = pd.get_dummies(Default, dtype=np.float64).drop(['default_No', 'student_No'], axis=1)\n",
    "\n",
    "display(Default.head())"
   ]
  },
  {
   "cell_type": "code",
   "execution_count": 7,
   "metadata": {},
   "outputs": [],
   "source": [
    "#(a) [3pt] Fit a logistic regression model that uses income and balance to predict default."
   ]
  },
  {
   "cell_type": "code",
   "execution_count": 8,
   "metadata": {},
   "outputs": [
    {
     "ename": "KeyError",
     "evalue": "'default'",
     "output_type": "error",
     "traceback": [
      "\u001b[0;31m---------------------------------------------------------------------------\u001b[0m",
      "\u001b[0;31mKeyError\u001b[0m                                  Traceback (most recent call last)",
      "\u001b[0;32m~/opt/anaconda3/lib/python3.7/site-packages/pandas/core/indexes/base.py\u001b[0m in \u001b[0;36mget_loc\u001b[0;34m(self, key, method, tolerance)\u001b[0m\n\u001b[1;32m   2645\u001b[0m             \u001b[0;32mtry\u001b[0m\u001b[0;34m:\u001b[0m\u001b[0;34m\u001b[0m\u001b[0;34m\u001b[0m\u001b[0m\n\u001b[0;32m-> 2646\u001b[0;31m                 \u001b[0;32mreturn\u001b[0m \u001b[0mself\u001b[0m\u001b[0;34m.\u001b[0m\u001b[0m_engine\u001b[0m\u001b[0;34m.\u001b[0m\u001b[0mget_loc\u001b[0m\u001b[0;34m(\u001b[0m\u001b[0mkey\u001b[0m\u001b[0;34m)\u001b[0m\u001b[0;34m\u001b[0m\u001b[0;34m\u001b[0m\u001b[0m\n\u001b[0m\u001b[1;32m   2647\u001b[0m             \u001b[0;32mexcept\u001b[0m \u001b[0mKeyError\u001b[0m\u001b[0;34m:\u001b[0m\u001b[0;34m\u001b[0m\u001b[0;34m\u001b[0m\u001b[0m\n",
      "\u001b[0;32mpandas/_libs/index.pyx\u001b[0m in \u001b[0;36mpandas._libs.index.IndexEngine.get_loc\u001b[0;34m()\u001b[0m\n",
      "\u001b[0;32mpandas/_libs/index.pyx\u001b[0m in \u001b[0;36mpandas._libs.index.IndexEngine.get_loc\u001b[0;34m()\u001b[0m\n",
      "\u001b[0;32mpandas/_libs/hashtable_class_helper.pxi\u001b[0m in \u001b[0;36mpandas._libs.hashtable.PyObjectHashTable.get_item\u001b[0;34m()\u001b[0m\n",
      "\u001b[0;32mpandas/_libs/hashtable_class_helper.pxi\u001b[0m in \u001b[0;36mpandas._libs.hashtable.PyObjectHashTable.get_item\u001b[0;34m()\u001b[0m\n",
      "\u001b[0;31mKeyError\u001b[0m: 'default'",
      "\nDuring handling of the above exception, another exception occurred:\n",
      "\u001b[0;31mKeyError\u001b[0m                                  Traceback (most recent call last)",
      "\u001b[0;32m<ipython-input-8-0b13eaa82cd8>\u001b[0m in \u001b[0;36m<module>\u001b[0;34m\u001b[0m\n\u001b[1;32m      1\u001b[0m \u001b[0mx01\u001b[0m \u001b[0;34m=\u001b[0m \u001b[0msm\u001b[0m\u001b[0;34m.\u001b[0m\u001b[0madd_constant\u001b[0m\u001b[0;34m(\u001b[0m\u001b[0mDefault\u001b[0m\u001b[0;34m.\u001b[0m\u001b[0miloc\u001b[0m\u001b[0;34m[\u001b[0m\u001b[0;34m:\u001b[0m\u001b[0;34m,\u001b[0m \u001b[0;36m3\u001b[0m\u001b[0;34m:\u001b[0m\u001b[0;36m5\u001b[0m\u001b[0;34m]\u001b[0m\u001b[0;34m)\u001b[0m\u001b[0;34m\u001b[0m\u001b[0;34m\u001b[0m\u001b[0m\n\u001b[0;32m----> 2\u001b[0;31m \u001b[0my01\u001b[0m \u001b[0;34m=\u001b[0m \u001b[0mnp\u001b[0m\u001b[0;34m.\u001b[0m\u001b[0mwhere\u001b[0m\u001b[0;34m(\u001b[0m\u001b[0mDefault\u001b[0m\u001b[0;34m[\u001b[0m\u001b[0;34m'default'\u001b[0m\u001b[0;34m]\u001b[0m\u001b[0;34m==\u001b[0m\u001b[0;34m'No'\u001b[0m\u001b[0;34m,\u001b[0m \u001b[0;36m0\u001b[0m\u001b[0;34m,\u001b[0m \u001b[0;36m1\u001b[0m\u001b[0;34m)\u001b[0m\u001b[0;34m\u001b[0m\u001b[0;34m\u001b[0m\u001b[0m\n\u001b[0m",
      "\u001b[0;32m~/opt/anaconda3/lib/python3.7/site-packages/pandas/core/frame.py\u001b[0m in \u001b[0;36m__getitem__\u001b[0;34m(self, key)\u001b[0m\n\u001b[1;32m   2798\u001b[0m             \u001b[0;32mif\u001b[0m \u001b[0mself\u001b[0m\u001b[0;34m.\u001b[0m\u001b[0mcolumns\u001b[0m\u001b[0;34m.\u001b[0m\u001b[0mnlevels\u001b[0m \u001b[0;34m>\u001b[0m \u001b[0;36m1\u001b[0m\u001b[0;34m:\u001b[0m\u001b[0;34m\u001b[0m\u001b[0;34m\u001b[0m\u001b[0m\n\u001b[1;32m   2799\u001b[0m                 \u001b[0;32mreturn\u001b[0m \u001b[0mself\u001b[0m\u001b[0;34m.\u001b[0m\u001b[0m_getitem_multilevel\u001b[0m\u001b[0;34m(\u001b[0m\u001b[0mkey\u001b[0m\u001b[0;34m)\u001b[0m\u001b[0;34m\u001b[0m\u001b[0;34m\u001b[0m\u001b[0m\n\u001b[0;32m-> 2800\u001b[0;31m             \u001b[0mindexer\u001b[0m \u001b[0;34m=\u001b[0m \u001b[0mself\u001b[0m\u001b[0;34m.\u001b[0m\u001b[0mcolumns\u001b[0m\u001b[0;34m.\u001b[0m\u001b[0mget_loc\u001b[0m\u001b[0;34m(\u001b[0m\u001b[0mkey\u001b[0m\u001b[0;34m)\u001b[0m\u001b[0;34m\u001b[0m\u001b[0;34m\u001b[0m\u001b[0m\n\u001b[0m\u001b[1;32m   2801\u001b[0m             \u001b[0;32mif\u001b[0m \u001b[0mis_integer\u001b[0m\u001b[0;34m(\u001b[0m\u001b[0mindexer\u001b[0m\u001b[0;34m)\u001b[0m\u001b[0;34m:\u001b[0m\u001b[0;34m\u001b[0m\u001b[0;34m\u001b[0m\u001b[0m\n\u001b[1;32m   2802\u001b[0m                 \u001b[0mindexer\u001b[0m \u001b[0;34m=\u001b[0m \u001b[0;34m[\u001b[0m\u001b[0mindexer\u001b[0m\u001b[0;34m]\u001b[0m\u001b[0;34m\u001b[0m\u001b[0;34m\u001b[0m\u001b[0m\n",
      "\u001b[0;32m~/opt/anaconda3/lib/python3.7/site-packages/pandas/core/indexes/base.py\u001b[0m in \u001b[0;36mget_loc\u001b[0;34m(self, key, method, tolerance)\u001b[0m\n\u001b[1;32m   2646\u001b[0m                 \u001b[0;32mreturn\u001b[0m \u001b[0mself\u001b[0m\u001b[0;34m.\u001b[0m\u001b[0m_engine\u001b[0m\u001b[0;34m.\u001b[0m\u001b[0mget_loc\u001b[0m\u001b[0;34m(\u001b[0m\u001b[0mkey\u001b[0m\u001b[0;34m)\u001b[0m\u001b[0;34m\u001b[0m\u001b[0;34m\u001b[0m\u001b[0m\n\u001b[1;32m   2647\u001b[0m             \u001b[0;32mexcept\u001b[0m \u001b[0mKeyError\u001b[0m\u001b[0;34m:\u001b[0m\u001b[0;34m\u001b[0m\u001b[0;34m\u001b[0m\u001b[0m\n\u001b[0;32m-> 2648\u001b[0;31m                 \u001b[0;32mreturn\u001b[0m \u001b[0mself\u001b[0m\u001b[0;34m.\u001b[0m\u001b[0m_engine\u001b[0m\u001b[0;34m.\u001b[0m\u001b[0mget_loc\u001b[0m\u001b[0;34m(\u001b[0m\u001b[0mself\u001b[0m\u001b[0;34m.\u001b[0m\u001b[0m_maybe_cast_indexer\u001b[0m\u001b[0;34m(\u001b[0m\u001b[0mkey\u001b[0m\u001b[0;34m)\u001b[0m\u001b[0;34m)\u001b[0m\u001b[0;34m\u001b[0m\u001b[0;34m\u001b[0m\u001b[0m\n\u001b[0m\u001b[1;32m   2649\u001b[0m         \u001b[0mindexer\u001b[0m \u001b[0;34m=\u001b[0m \u001b[0mself\u001b[0m\u001b[0;34m.\u001b[0m\u001b[0mget_indexer\u001b[0m\u001b[0;34m(\u001b[0m\u001b[0;34m[\u001b[0m\u001b[0mkey\u001b[0m\u001b[0;34m]\u001b[0m\u001b[0;34m,\u001b[0m \u001b[0mmethod\u001b[0m\u001b[0;34m=\u001b[0m\u001b[0mmethod\u001b[0m\u001b[0;34m,\u001b[0m \u001b[0mtolerance\u001b[0m\u001b[0;34m=\u001b[0m\u001b[0mtolerance\u001b[0m\u001b[0;34m)\u001b[0m\u001b[0;34m\u001b[0m\u001b[0;34m\u001b[0m\u001b[0m\n\u001b[1;32m   2650\u001b[0m         \u001b[0;32mif\u001b[0m \u001b[0mindexer\u001b[0m\u001b[0;34m.\u001b[0m\u001b[0mndim\u001b[0m \u001b[0;34m>\u001b[0m \u001b[0;36m1\u001b[0m \u001b[0;32mor\u001b[0m \u001b[0mindexer\u001b[0m\u001b[0;34m.\u001b[0m\u001b[0msize\u001b[0m \u001b[0;34m>\u001b[0m \u001b[0;36m1\u001b[0m\u001b[0;34m:\u001b[0m\u001b[0;34m\u001b[0m\u001b[0;34m\u001b[0m\u001b[0m\n",
      "\u001b[0;32mpandas/_libs/index.pyx\u001b[0m in \u001b[0;36mpandas._libs.index.IndexEngine.get_loc\u001b[0;34m()\u001b[0m\n",
      "\u001b[0;32mpandas/_libs/index.pyx\u001b[0m in \u001b[0;36mpandas._libs.index.IndexEngine.get_loc\u001b[0;34m()\u001b[0m\n",
      "\u001b[0;32mpandas/_libs/hashtable_class_helper.pxi\u001b[0m in \u001b[0;36mpandas._libs.hashtable.PyObjectHashTable.get_item\u001b[0;34m()\u001b[0m\n",
      "\u001b[0;32mpandas/_libs/hashtable_class_helper.pxi\u001b[0m in \u001b[0;36mpandas._libs.hashtable.PyObjectHashTable.get_item\u001b[0;34m()\u001b[0m\n",
      "\u001b[0;31mKeyError\u001b[0m: 'default'"
     ]
    }
   ],
   "source": [
    "x01 = sm.add_constant(Default.iloc[:, 3:5]) \n",
    "y01 = np.where(Default['default']=='No', 0, 1) "
   ]
  },
  {
   "cell_type": "code",
   "execution_count": 112,
   "metadata": {},
   "outputs": [
    {
     "name": "stdout",
     "output_type": "stream",
     "text": [
      "Optimization terminated successfully.\n",
      "         Current function value: 0.145834\n",
      "         Iterations 7\n",
      "                           Logit Regression Results                           \n",
      "==============================================================================\n",
      "Dep. Variable:                      y   No. Observations:                10000\n",
      "Model:                          Logit   Df Residuals:                     9998\n",
      "Method:                           MLE   Df Model:                            1\n",
      "Date:                Mon, 12 Jul 2021   Pseudo R-squ.:                0.001357\n",
      "Time:                        21:01:34   Log-Likelihood:                -1458.3\n",
      "converged:                       True   LL-Null:                       -1460.3\n",
      "Covariance Type:            nonrobust   LLR p-value:                   0.04652\n",
      "==============================================================================\n",
      "                 coef    std err          z      P>|z|      [0.025      0.975]\n",
      "------------------------------------------------------------------------------\n",
      "const         -3.0941      0.146    -21.156      0.000      -3.381      -2.807\n",
      "income     -8.353e-06   4.21e-06     -1.985      0.047   -1.66e-05   -1.06e-07\n",
      "==============================================================================\n"
     ]
    }
   ],
   "source": [
    "glm1 = sm.Logit(y01, x01)\n",
    "print(glm1.fit().summary())"
   ]
  },
  {
   "cell_type": "code",
   "execution_count": 101,
   "metadata": {},
   "outputs": [],
   "source": [
    "lg = LogisticRegression(random_state=0).fit(Default.drop(['default_Yes'],axis=1), Default['default_Yes'])"
   ]
  },
  {
   "cell_type": "markdown",
   "metadata": {},
   "source": [
    "(b)\n",
    "\n",
    "Using the validation set approach, estimate the test error of this model. In order to do this, you must perform\n",
    "the following steps: i. Split the sample set into a training set and a validation set. ii. Fit a multiple logistic\n",
    "regression model using only the training observations. iii. Obtain a prediction of default status for each\n",
    "individual in the validation set by computing the posterior probability of default for that individual, and\n",
    "classifying the individual to the default category if the posterior probability is greater than 0.5. iv. Compute\n",
    "the validation set error, which is the fraction of the observations in the validation set that are misclassified."
   ]
  },
  {
   "cell_type": "code",
   "execution_count": 113,
   "metadata": {},
   "outputs": [],
   "source": [
    "x = pd.DataFrame(Default.iloc[:, 3:5])\n",
    "y = np.array(Default['default'])\n",
    "np.random.seed(1)\n",
    "x_train, x_test, y_train, y_test = train_test_split(x, y, test_size=0.4)"
   ]
  },
  {
   "cell_type": "code",
   "execution_count": 85,
   "metadata": {},
   "outputs": [],
   "source": [
    "#i\n",
    "x_train,x_validation,y_train, y_validation = train_test_split(Default[['balance','income','student_Yes']],Default['default_Yes'], test_size=0.30,random_state= 101)\n"
   ]
  },
  {
   "cell_type": "code",
   "execution_count": 86,
   "metadata": {},
   "outputs": [],
   "source": [
    "#ii\n",
    "lg1 = LogisticRegression(random_state=0).fit(x_train,y_train)"
   ]
  },
  {
   "cell_type": "code",
   "execution_count": 114,
   "metadata": {},
   "outputs": [],
   "source": [
    "#new sol\n",
    "glm2 = LogisticRegression()"
   ]
  },
  {
   "cell_type": "code",
   "execution_count": 17,
   "metadata": {},
   "outputs": [],
   "source": [
    "#iii"
   ]
  },
  {
   "cell_type": "code",
   "execution_count": 115,
   "metadata": {},
   "outputs": [],
   "source": [
    "#new sol\n",
    "glm2.pred = glm2.fit(x_train, y_train).predict(x_test)"
   ]
  },
  {
   "cell_type": "code",
   "execution_count": 93,
   "metadata": {},
   "outputs": [],
   "source": [
    "pred = lg1.predict_proba(x_validation)"
   ]
  },
  {
   "cell_type": "code",
   "execution_count": 88,
   "metadata": {},
   "outputs": [],
   "source": [
    "for i in range(0,len(pred)):\n",
    "    if pred[:,0][i] > 0.5:\n",
    "        pred[:,0][i]=0\n",
    "    else: \n",
    "         pred[:,0][i]=1\n",
    "    \n",
    "        "
   ]
  },
  {
   "cell_type": "code",
   "execution_count": 94,
   "metadata": {},
   "outputs": [
    {
     "data": {
      "text/plain": [
       "array([[9.99095762e-01, 9.04238398e-04],\n",
       "       [7.30055147e-01, 2.69944853e-01],\n",
       "       [9.98300282e-01, 1.69971817e-03],\n",
       "       ...,\n",
       "       [8.85202448e-01, 1.14797552e-01],\n",
       "       [9.99026351e-01, 9.73649008e-04],\n",
       "       [9.55886014e-01, 4.41139860e-02]])"
      ]
     },
     "execution_count": 94,
     "metadata": {},
     "output_type": "execute_result"
    }
   ],
   "source": [
    "pred"
   ]
  },
  {
   "cell_type": "code",
   "execution_count": 90,
   "metadata": {},
   "outputs": [],
   "source": [
    "pred = pred[:,0][:]"
   ]
  },
  {
   "cell_type": "code",
   "execution_count": 91,
   "metadata": {},
   "outputs": [],
   "source": [
    "y_validation = y_validatio n.apply(lambda x: 0 if x=='No' else 1)"
   ]
  },
  {
   "cell_type": "code",
   "execution_count": 26,
   "metadata": {},
   "outputs": [],
   "source": [
    "#iv"
   ]
  },
  {
   "cell_type": "code",
   "execution_count": 116,
   "metadata": {},
   "outputs": [
    {
     "name": "stdout",
     "output_type": "stream",
     "text": [
      "0.030750000000000055\n"
     ]
    }
   ],
   "source": [
    "error1 = 1-accuracy_score(y_test, glm2.pred) # 3.1%\n",
    "print(error1)"
   ]
  },
  {
   "cell_type": "code",
   "execution_count": 24,
   "metadata": {},
   "outputs": [],
   "source": [
    "error = (y_validation!=pred).sum()"
   ]
  },
  {
   "cell_type": "code",
   "execution_count": 25,
   "metadata": {
    "scrolled": true
   },
   "outputs": [
    {
     "name": "stdout",
     "output_type": "stream",
     "text": [
      "The fraction of the observations in the validation set that are misclassified is 0.0233\n"
     ]
    }
   ],
   "source": [
    "print(\"The fraction of the observations in the validation set that are misclassified is\", round(error/len(y_validation),4))"
   ]
  },
  {
   "cell_type": "markdown",
   "metadata": {},
   "source": [
    "(c)\n",
    "\n",
    "Repeat the process in (b) three times, using three different splits of the observations into a training set and a\n",
    "validation set. Comment on the results obtained."
   ]
  },
  {
   "cell_type": "markdown",
   "metadata": {},
   "source": [
    "### Solution"
   ]
  },
  {
   "cell_type": "code",
   "execution_count": 120,
   "metadata": {},
   "outputs": [
    {
     "data": {
      "text/plain": [
       "array([0.03025, 0.03375, 0.033  ])"
      ]
     },
     "execution_count": 120,
     "metadata": {},
     "output_type": "execute_result"
    }
   ],
   "source": [
    "error2 = np.zeros(3)\n",
    "for i in range(2, 5, 1):\n",
    "    np.random.seed(i)\n",
    "    x_train, x_test, y_train, y_test = train_test_split(x, y, test_size=0.4)\n",
    "    \n",
    "    glm2        = LogisticRegression()\n",
    "    glm2.pred   = glm2.fit(x_train, y_train).predict(x_test)\n",
    "    error2[i-2] = 1-accuracy_score(y_test, glm2.pred)\n",
    "    \n",
    "error2\n",
    "# Testing error is btw 3.1% and 3.4% (small variance)."
   ]
  },
  {
   "cell_type": "code",
   "execution_count": 121,
   "metadata": {},
   "outputs": [
    {
     "name": "stdout",
     "output_type": "stream",
     "text": [
      "The mean error rate is 0.032333333333333325\n"
     ]
    }
   ],
   "source": [
    "print(\"The mean error rate is\", format(sum(error2)/len(error2)))"
   ]
  },
  {
   "cell_type": "markdown",
   "metadata": {},
   "source": [
    "The difference between the largest and the smallest test error\n",
    "rate is 0.0035%"
   ]
  },
  {
   "cell_type": "markdown",
   "metadata": {},
   "source": [
    "(d)\n",
    "\n",
    "Now consider a logistic regression model that predicts the probability of default using income, balance, and\n",
    "a dummy variable for student. Estimate the test error for this model using the validation set approach.\n",
    "Comment on whether or not including a dummy variable for student leads to a reduction in the test error\n",
    "rate."
   ]
  },
  {
   "cell_type": "markdown",
   "metadata": {},
   "source": [
    "### Solution"
   ]
  },
  {
   "cell_type": "code",
   "execution_count": 124,
   "metadata": {},
   "outputs": [
    {
     "data": {
      "text/plain": [
       "0.030750000000000055"
      ]
     },
     "execution_count": 124,
     "metadata": {},
     "output_type": "execute_result"
    }
   ],
   "source": [
    "Default['student01'] = np.where(Default['student'] == 'No', 0, 1)\n",
    "x = pd.DataFrame(Default.iloc[:, 3:6])\n",
    "y = np.array(Default['default'])\n",
    "\n",
    "np.random.seed(1)\n",
    "x_train, x_test, y_train, y_test = train_test_split(x, y, test_size=0.4)\n",
    "    \n",
    "glm3        = LogisticRegression()\n",
    "glm3.pred   = glm3.fit(x_train, y_train).predict(x_test)\n",
    "error3 = 1-accuracy_score(y_test, glm3.pred)\n",
    "    \n",
    "error3\n",
    "# Testing error is similar to w/o student."
   ]
  },
  {
   "cell_type": "code",
   "execution_count": 44,
   "metadata": {},
   "outputs": [],
   "source": [
    "Default['student'] = pd.get_dummies(Default['student'])"
   ]
  },
  {
   "cell_type": "code",
   "execution_count": 45,
   "metadata": {},
   "outputs": [
    {
     "data": {
      "text/html": [
       "<div>\n",
       "<style scoped>\n",
       "    .dataframe tbody tr th:only-of-type {\n",
       "        vertical-align: middle;\n",
       "    }\n",
       "\n",
       "    .dataframe tbody tr th {\n",
       "        vertical-align: top;\n",
       "    }\n",
       "\n",
       "    .dataframe thead th {\n",
       "        text-align: right;\n",
       "    }\n",
       "</style>\n",
       "<table border=\"1\" class=\"dataframe\">\n",
       "  <thead>\n",
       "    <tr style=\"text-align: right;\">\n",
       "      <th></th>\n",
       "      <th>default</th>\n",
       "      <th>student</th>\n",
       "      <th>balance</th>\n",
       "      <th>income</th>\n",
       "    </tr>\n",
       "  </thead>\n",
       "  <tbody>\n",
       "    <tr>\n",
       "      <th>0</th>\n",
       "      <td>No</td>\n",
       "      <td>1</td>\n",
       "      <td>729.526495</td>\n",
       "      <td>44361.625074</td>\n",
       "    </tr>\n",
       "    <tr>\n",
       "      <th>1</th>\n",
       "      <td>No</td>\n",
       "      <td>0</td>\n",
       "      <td>817.180407</td>\n",
       "      <td>12106.134700</td>\n",
       "    </tr>\n",
       "    <tr>\n",
       "      <th>2</th>\n",
       "      <td>No</td>\n",
       "      <td>1</td>\n",
       "      <td>1073.549164</td>\n",
       "      <td>31767.138947</td>\n",
       "    </tr>\n",
       "    <tr>\n",
       "      <th>3</th>\n",
       "      <td>No</td>\n",
       "      <td>1</td>\n",
       "      <td>529.250605</td>\n",
       "      <td>35704.493935</td>\n",
       "    </tr>\n",
       "    <tr>\n",
       "      <th>4</th>\n",
       "      <td>No</td>\n",
       "      <td>1</td>\n",
       "      <td>785.655883</td>\n",
       "      <td>38463.495879</td>\n",
       "    </tr>\n",
       "    <tr>\n",
       "      <th>...</th>\n",
       "      <td>...</td>\n",
       "      <td>...</td>\n",
       "      <td>...</td>\n",
       "      <td>...</td>\n",
       "    </tr>\n",
       "    <tr>\n",
       "      <th>9995</th>\n",
       "      <td>No</td>\n",
       "      <td>1</td>\n",
       "      <td>711.555020</td>\n",
       "      <td>52992.378914</td>\n",
       "    </tr>\n",
       "    <tr>\n",
       "      <th>9996</th>\n",
       "      <td>No</td>\n",
       "      <td>1</td>\n",
       "      <td>757.962918</td>\n",
       "      <td>19660.721768</td>\n",
       "    </tr>\n",
       "    <tr>\n",
       "      <th>9997</th>\n",
       "      <td>No</td>\n",
       "      <td>1</td>\n",
       "      <td>845.411989</td>\n",
       "      <td>58636.156984</td>\n",
       "    </tr>\n",
       "    <tr>\n",
       "      <th>9998</th>\n",
       "      <td>No</td>\n",
       "      <td>1</td>\n",
       "      <td>1569.009053</td>\n",
       "      <td>36669.112365</td>\n",
       "    </tr>\n",
       "    <tr>\n",
       "      <th>9999</th>\n",
       "      <td>No</td>\n",
       "      <td>0</td>\n",
       "      <td>200.922183</td>\n",
       "      <td>16862.952321</td>\n",
       "    </tr>\n",
       "  </tbody>\n",
       "</table>\n",
       "<p>10000 rows × 4 columns</p>\n",
       "</div>"
      ],
      "text/plain": [
       "     default  student      balance        income\n",
       "0         No        1   729.526495  44361.625074\n",
       "1         No        0   817.180407  12106.134700\n",
       "2         No        1  1073.549164  31767.138947\n",
       "3         No        1   529.250605  35704.493935\n",
       "4         No        1   785.655883  38463.495879\n",
       "...      ...      ...          ...           ...\n",
       "9995      No        1   711.555020  52992.378914\n",
       "9996      No        1   757.962918  19660.721768\n",
       "9997      No        1   845.411989  58636.156984\n",
       "9998      No        1  1569.009053  36669.112365\n",
       "9999      No        0   200.922183  16862.952321\n",
       "\n",
       "[10000 rows x 4 columns]"
      ]
     },
     "execution_count": 45,
     "metadata": {},
     "output_type": "execute_result"
    }
   ],
   "source": [
    "Default"
   ]
  },
  {
   "cell_type": "code",
   "execution_count": 84,
   "metadata": {},
   "outputs": [
    {
     "name": "stdout",
     "output_type": "stream",
     "text": [
      "The misclassification error rate is 0.026%\n"
     ]
    }
   ],
   "source": [
    "np.random.seed(6)\n",
    "x_train,x_validation,y_train, y_validation = train_test_split(Default[['balance','income','student']],Default['default'], test_size=0.30)\n",
    "lg = LogisticRegression(random_state=0).fit(x_train,y_train)\n",
    "pred = lg.predict_proba(x_validation)\n",
    "for i in range(0,len(pred)):\n",
    "    if pred[:,0][i] > 0.5:\n",
    "        pred[:,0][i]=0\n",
    "    else: \n",
    "         pred[:,0][i]=1\n",
    "\n",
    "pred = pred[:,0][:]\n",
    "\n",
    "y_validation = y_validation.apply(lambda x: 0 if x=='No' else 1)\n",
    "error = (y_validation!=pred).sum()/len(y_validation)\n",
    "print(\"The misclassification error rate is {}\".format(error)+ '%')"
   ]
  },
  {
   "cell_type": "markdown",
   "metadata": {},
   "source": [
    "It can be oberserved that the miscalssification error rate has not decreased after including the dummy of the student feature "
   ]
  },
  {
   "cell_type": "markdown",
   "metadata": {},
   "source": [
    "## CHR 5.6"
   ]
  },
  {
   "cell_type": "markdown",
   "metadata": {},
   "source": [
    "We continue to consider the use of a logistic regression model to predict the probability of default using\n",
    "income and balance on the Default data set. In particular, we will now compute estimates for the standard\n",
    "errors of the income and balance logistic regression coefficients in two different ways: (1) using the bootstrap,\n",
    "and (2) using the standard formula for computing the standard errors in the glm() function. Do not forget to\n",
    "set a random seed before beginning your analysis"
   ]
  },
  {
   "cell_type": "markdown",
   "metadata": {},
   "source": [
    "(a)\n",
    "\n",
    "Using the summary() and glm() functions, determine the estimated standard errors for the coefficients\n",
    "associated with income and balance in a multiple logistic regression model that uses both predictors."
   ]
  },
  {
   "cell_type": "markdown",
   "metadata": {},
   "source": [
    "### Solution"
   ]
  },
  {
   "cell_type": "code",
   "execution_count": 155,
   "metadata": {},
   "outputs": [
    {
     "data": {
      "text/html": [
       "<table class=\"simpletable\">\n",
       "<caption>Generalized Linear Model Regression Results</caption>\n",
       "<tr>\n",
       "  <th>Dep. Variable:</th>          <td>Yes</td>       <th>  No. Observations:  </th>  <td> 10000</td> \n",
       "</tr>\n",
       "<tr>\n",
       "  <th>Model:</th>                  <td>GLM</td>       <th>  Df Residuals:      </th>  <td>  9997</td> \n",
       "</tr>\n",
       "<tr>\n",
       "  <th>Model Family:</th>        <td>Binomial</td>     <th>  Df Model:          </th>  <td>     2</td> \n",
       "</tr>\n",
       "<tr>\n",
       "  <th>Link Function:</th>         <td>logit</td>      <th>  Scale:             </th> <td>  1.0000</td>\n",
       "</tr>\n",
       "<tr>\n",
       "  <th>Method:</th>                <td>IRLS</td>       <th>  Log-Likelihood:    </th> <td> -789.48</td>\n",
       "</tr>\n",
       "<tr>\n",
       "  <th>Date:</th>            <td>Mon, 12 Jul 2021</td> <th>  Deviance:          </th> <td>  1579.0</td>\n",
       "</tr>\n",
       "<tr>\n",
       "  <th>Time:</th>                <td>22:19:30</td>     <th>  Pearson chi2:      </th> <td>6.95e+03</td>\n",
       "</tr>\n",
       "<tr>\n",
       "  <th>No. Iterations:</th>          <td>9</td>        <th>                     </th>     <td> </td>   \n",
       "</tr>\n",
       "<tr>\n",
       "  <th>Covariance Type:</th>     <td>nonrobust</td>    <th>                     </th>     <td> </td>   \n",
       "</tr>\n",
       "</table>\n",
       "<table class=\"simpletable\">\n",
       "<tr>\n",
       "     <td></td>        <th>coef</th>     <th>std err</th>      <th>z</th>      <th>P>|z|</th>  <th>[0.025</th>    <th>0.975]</th>  \n",
       "</tr>\n",
       "<tr>\n",
       "  <th>const</th>   <td>  -11.5405</td> <td>    0.435</td> <td>  -26.544</td> <td> 0.000</td> <td>  -12.393</td> <td>  -10.688</td>\n",
       "</tr>\n",
       "<tr>\n",
       "  <th>balance</th> <td>    0.0056</td> <td>    0.000</td> <td>   24.835</td> <td> 0.000</td> <td>    0.005</td> <td>    0.006</td>\n",
       "</tr>\n",
       "<tr>\n",
       "  <th>income</th>  <td> 2.081e-05</td> <td> 4.99e-06</td> <td>    4.174</td> <td> 0.000</td> <td>  1.1e-05</td> <td> 3.06e-05</td>\n",
       "</tr>\n",
       "</table>"
      ],
      "text/plain": [
       "<class 'statsmodels.iolib.summary.Summary'>\n",
       "\"\"\"\n",
       "                 Generalized Linear Model Regression Results                  \n",
       "==============================================================================\n",
       "Dep. Variable:                    Yes   No. Observations:                10000\n",
       "Model:                            GLM   Df Residuals:                     9997\n",
       "Model Family:                Binomial   Df Model:                            2\n",
       "Link Function:                  logit   Scale:                          1.0000\n",
       "Method:                          IRLS   Log-Likelihood:                -789.48\n",
       "Date:                Mon, 12 Jul 2021   Deviance:                       1579.0\n",
       "Time:                        22:19:30   Pearson chi2:                 6.95e+03\n",
       "No. Iterations:                     9                                         \n",
       "Covariance Type:            nonrobust                                         \n",
       "==============================================================================\n",
       "                 coef    std err          z      P>|z|      [0.025      0.975]\n",
       "------------------------------------------------------------------------------\n",
       "const        -11.5405      0.435    -26.544      0.000     -12.393     -10.688\n",
       "balance        0.0056      0.000     24.835      0.000       0.005       0.006\n",
       "income      2.081e-05   4.99e-06      4.174      0.000     1.1e-05    3.06e-05\n",
       "==============================================================================\n",
       "\"\"\""
      ]
     },
     "execution_count": 155,
     "metadata": {},
     "output_type": "execute_result"
    }
   ],
   "source": [
    "dfX = Default[['student', 'balance','income']]\n",
    "dfX = pd.get_dummies(data = dfX, drop_first=True)\n",
    "dfy = Default['default']\n",
    "\n",
    "X = dfX[['balance', 'income']]\n",
    "X = sm.add_constant(X)\n",
    "y = pd.get_dummies(dfy, drop_first=True)\n",
    "\n",
    "glmfit = sm.GLM(y, X, family=sm.families.Binomial()).fit()\n",
    "\n",
    "glmfit.summary()"
   ]
  },
  {
   "cell_type": "code",
   "execution_count": 157,
   "metadata": {},
   "outputs": [
    {
     "data": {
      "text/plain": [
       "array([4.34772469e-01, 2.27381384e-04, 4.98524546e-06])"
      ]
     },
     "execution_count": 157,
     "metadata": {},
     "output_type": "execute_result"
    }
   ],
   "source": [
    "estimated_std_err = np.array(glmfit.params / glmfit.tvalues)\n",
    "estimated_std_err\n",
    "\n"
   ]
  },
  {
   "cell_type": "code",
   "execution_count": 133,
   "metadata": {},
   "outputs": [],
   "source": [
    "formula = 'default ~  balance + income'"
   ]
  },
  {
   "cell_type": "code",
   "execution_count": 134,
   "metadata": {},
   "outputs": [
    {
     "name": "stdout",
     "output_type": "stream",
     "text": [
      "                        Generalized Linear Model Regression Results                        \n",
      "===========================================================================================\n",
      "Dep. Variable:     ['default[No]', 'default[Yes]']   No. Observations:                10000\n",
      "Model:                                         GLM   Df Residuals:                     9997\n",
      "Model Family:                             Binomial   Df Model:                            2\n",
      "Link Function:                               logit   Scale:                          1.0000\n",
      "Method:                                       IRLS   Log-Likelihood:                -789.48\n",
      "Date:                             Mon, 12 Jul 2021   Deviance:                       1579.0\n",
      "Time:                                     21:49:08   Pearson chi2:                 6.95e+03\n",
      "No. Iterations:                                  9                                         \n",
      "Covariance Type:                         nonrobust                                         \n",
      "==============================================================================\n",
      "                 coef    std err          z      P>|z|      [0.025      0.975]\n",
      "------------------------------------------------------------------------------\n",
      "Intercept     11.5405      0.435     26.544      0.000      10.688      12.393\n",
      "balance       -0.0056      0.000    -24.835      0.000      -0.006      -0.005\n",
      "income     -2.081e-05   4.99e-06     -4.174      0.000   -3.06e-05    -1.1e-05\n",
      "==============================================================================\n"
     ]
    }
   ],
   "source": [
    "model = smf.glm(formula = formula, data= Default, family=sm.families.Binomial())\n",
    "result = model.fit()\n",
    "print(result.summary())"
   ]
  },
  {
   "cell_type": "code",
   "execution_count": 135,
   "metadata": {},
   "outputs": [
    {
     "name": "stdout",
     "output_type": "stream",
     "text": [
      "Coefficeients\n",
      "Intercept    11.540468\n",
      "balance      -0.005647\n",
      "income       -0.000021\n",
      "dtype: float64\n",
      "\n",
      "p-Values\n",
      "Intercept    3.036729e-155\n",
      "balance      3.720516e-136\n",
      "income        2.991499e-05\n",
      "dtype: float64\n",
      "\n",
      "Dependent variables\n",
      "['default[No]', 'default[Yes]']\n"
     ]
    }
   ],
   "source": [
    "print(\"Coefficeients\")\n",
    "print(result.params)\n",
    "print()\n",
    "print(\"p-Values\")\n",
    "print(result.pvalues)\n",
    "print()\n",
    "print(\"Dependent variables\")\n",
    "print(result.model.endog_names)"
   ]
  },
  {
   "cell_type": "markdown",
   "metadata": {},
   "source": [
    "(b)\n",
    "\n",
    "Write a function, boot.fn(), that takes as input the Default data set as well as an index of the observations,\n",
    "and that outputs the coefficient estimates for income and balance in the multiple logistic regression model."
   ]
  },
  {
   "cell_type": "code",
   "execution_count": 159,
   "metadata": {},
   "outputs": [
    {
     "data": {
      "text/plain": [
       "array([4.34775145e-01, 2.27384181e-04, 4.98521904e-06])"
      ]
     },
     "execution_count": 159,
     "metadata": {},
     "output_type": "execute_result"
    }
   ],
   "source": [
    "#new sol\n",
    "\n",
    "def bootfn(data, index):\n",
    "    X = data[['balance', 'income']]\n",
    "    X = sm.add_constant(X)\n",
    "    y = pd.get_dummies(data['default'], drop_first=True)\n",
    "    X_train = X.iloc[index]\n",
    "    y_train = y.iloc[index]\n",
    "    glmfit = sm.GLM(y_train, X_train, family=sm.families.Binomial()).fit()\n",
    "    estimated_std_err = np.array(glmfit.params / glmfit.tvalues)\n",
    "    return estimated_std_err\n",
    "\n",
    "\n",
    "bootfn(Default, list(range(1,10000)))"
   ]
  },
  {
   "cell_type": "code",
   "execution_count": 57,
   "metadata": {},
   "outputs": [],
   "source": [
    "def boot_fn(df, idx):\n",
    "    response   = 'default_Yes'\n",
    "    predictors = ['income', 'balance']\n",
    "    \n",
    "    X = sm.add_constant(np.array(df[predictors].loc[idx]));\n",
    "    y = np.array(df[response].loc[idx]) \n",
    "       \n",
    "    # Logistic regression\n",
    "    model_logit = smf.Logit(y, X).fit(disp=False);  \n",
    "    return model_logit.params;"
   ]
  },
  {
   "cell_type": "markdown",
   "metadata": {},
   "source": [
    "(c)\n",
    "\n",
    "Use the boot() function together with your boot.fn() function to estimate the standard errors of the logistic\n",
    "regression coefficients for income and balance."
   ]
  },
  {
   "cell_type": "markdown",
   "metadata": {},
   "source": [
    "### Solution"
   ]
  },
  {
   "cell_type": "code",
   "execution_count": 162,
   "metadata": {},
   "outputs": [
    {
     "data": {
      "text/html": [
       "<div>\n",
       "<style scoped>\n",
       "    .dataframe tbody tr th:only-of-type {\n",
       "        vertical-align: middle;\n",
       "    }\n",
       "\n",
       "    .dataframe tbody tr th {\n",
       "        vertical-align: top;\n",
       "    }\n",
       "\n",
       "    .dataframe thead th {\n",
       "        text-align: right;\n",
       "    }\n",
       "</style>\n",
       "<table border=\"1\" class=\"dataframe\">\n",
       "  <thead>\n",
       "    <tr style=\"text-align: right;\">\n",
       "      <th></th>\n",
       "      <th>intercept</th>\n",
       "      <th>balance</th>\n",
       "      <th>income</th>\n",
       "    </tr>\n",
       "  </thead>\n",
       "  <tbody>\n",
       "    <tr>\n",
       "      <th>0</th>\n",
       "      <td>0.407990</td>\n",
       "      <td>0.000213</td>\n",
       "      <td>0.000005</td>\n",
       "    </tr>\n",
       "    <tr>\n",
       "      <th>1</th>\n",
       "      <td>0.431001</td>\n",
       "      <td>0.000227</td>\n",
       "      <td>0.000005</td>\n",
       "    </tr>\n",
       "    <tr>\n",
       "      <th>2</th>\n",
       "      <td>0.425318</td>\n",
       "      <td>0.000223</td>\n",
       "      <td>0.000005</td>\n",
       "    </tr>\n",
       "    <tr>\n",
       "      <th>3</th>\n",
       "      <td>0.451506</td>\n",
       "      <td>0.000229</td>\n",
       "      <td>0.000005</td>\n",
       "    </tr>\n",
       "    <tr>\n",
       "      <th>4</th>\n",
       "      <td>0.409148</td>\n",
       "      <td>0.000217</td>\n",
       "      <td>0.000005</td>\n",
       "    </tr>\n",
       "  </tbody>\n",
       "</table>\n",
       "</div>"
      ],
      "text/plain": [
       "   intercept   balance    income\n",
       "0   0.407990  0.000213  0.000005\n",
       "1   0.431001  0.000227  0.000005\n",
       "2   0.425318  0.000223  0.000005\n",
       "3   0.451506  0.000229  0.000005\n",
       "4   0.409148  0.000217  0.000005"
      ]
     },
     "execution_count": 162,
     "metadata": {},
     "output_type": "execute_result"
    }
   ],
   "source": [
    "#new sol\n",
    "from sklearn.utils import resample\n",
    "std_err_df = pd.DataFrame()\n",
    "idx = list(range(10000))\n",
    "\n",
    "for i in range(1000):\n",
    "    std_temp = bootfn(Default, resample(idx, replace=True))\n",
    "    std_err_df = std_err_df.append([std_temp])\n",
    "\n",
    "    std_err_df.reset_index(drop=True, inplace=True)\n",
    "std_err_df.columns = ['intercept', 'balance', 'income']\n",
    "\n",
    "std_err_df.head()"
   ]
  },
  {
   "cell_type": "code",
   "execution_count": 163,
   "metadata": {},
   "outputs": [
    {
     "data": {
      "text/plain": [
       "(1000, 3)"
      ]
     },
     "execution_count": 163,
     "metadata": {},
     "output_type": "execute_result"
    }
   ],
   "source": [
    "std_err_df.shape"
   ]
  },
  {
   "cell_type": "code",
   "execution_count": 164,
   "metadata": {},
   "outputs": [
    {
     "data": {
      "text/plain": [
       "intercept    0.437219\n",
       "balance      0.000229\n",
       "income       0.000005\n",
       "dtype: float64"
      ]
     },
     "execution_count": 164,
     "metadata": {},
     "output_type": "execute_result"
    }
   ],
   "source": [
    "std_err_df.mean()"
   ]
  },
  {
   "cell_type": "markdown",
   "metadata": {},
   "source": [
    "(d)\n",
    "\n",
    "\n",
    "As we can see, the bootstrap of the standard error estimates are close to standard errors of logistic regression coefficients."
   ]
  },
  {
   "cell_type": "markdown",
   "metadata": {},
   "source": [
    "### CHR 5.9"
   ]
  },
  {
   "cell_type": "markdown",
   "metadata": {},
   "source": [
    " We will now consider the Boston housing data set, from the MASS library."
   ]
  },
  {
   "cell_type": "code",
   "execution_count": 166,
   "metadata": {},
   "outputs": [],
   "source": [
    "data = pd.read_csv(r\"C:\\Users\\Pratiksha\\Documents\\GitHub\\ISLR\\data\\csv\\Boston.csv\")"
   ]
  },
  {
   "cell_type": "code",
   "execution_count": 167,
   "metadata": {},
   "outputs": [
    {
     "data": {
      "text/html": [
       "<div>\n",
       "<style scoped>\n",
       "    .dataframe tbody tr th:only-of-type {\n",
       "        vertical-align: middle;\n",
       "    }\n",
       "\n",
       "    .dataframe tbody tr th {\n",
       "        vertical-align: top;\n",
       "    }\n",
       "\n",
       "    .dataframe thead th {\n",
       "        text-align: right;\n",
       "    }\n",
       "</style>\n",
       "<table border=\"1\" class=\"dataframe\">\n",
       "  <thead>\n",
       "    <tr style=\"text-align: right;\">\n",
       "      <th></th>\n",
       "      <th>crim</th>\n",
       "      <th>zn</th>\n",
       "      <th>indus</th>\n",
       "      <th>chas</th>\n",
       "      <th>nox</th>\n",
       "      <th>rm</th>\n",
       "      <th>age</th>\n",
       "      <th>dis</th>\n",
       "      <th>rad</th>\n",
       "      <th>tax</th>\n",
       "      <th>ptratio</th>\n",
       "      <th>black</th>\n",
       "      <th>lstat</th>\n",
       "      <th>medv</th>\n",
       "    </tr>\n",
       "  </thead>\n",
       "  <tbody>\n",
       "    <tr>\n",
       "      <th>count</th>\n",
       "      <td>506.000000</td>\n",
       "      <td>506.000000</td>\n",
       "      <td>506.000000</td>\n",
       "      <td>506.000000</td>\n",
       "      <td>506.000000</td>\n",
       "      <td>506.000000</td>\n",
       "      <td>506.000000</td>\n",
       "      <td>506.000000</td>\n",
       "      <td>506.000000</td>\n",
       "      <td>506.000000</td>\n",
       "      <td>506.000000</td>\n",
       "      <td>506.000000</td>\n",
       "      <td>506.000000</td>\n",
       "      <td>506.000000</td>\n",
       "    </tr>\n",
       "    <tr>\n",
       "      <th>mean</th>\n",
       "      <td>3.613524</td>\n",
       "      <td>11.363636</td>\n",
       "      <td>11.136779</td>\n",
       "      <td>0.069170</td>\n",
       "      <td>0.554695</td>\n",
       "      <td>6.284634</td>\n",
       "      <td>68.574901</td>\n",
       "      <td>3.795043</td>\n",
       "      <td>9.549407</td>\n",
       "      <td>408.237154</td>\n",
       "      <td>18.455534</td>\n",
       "      <td>356.674032</td>\n",
       "      <td>12.653063</td>\n",
       "      <td>22.532806</td>\n",
       "    </tr>\n",
       "    <tr>\n",
       "      <th>std</th>\n",
       "      <td>8.601545</td>\n",
       "      <td>23.322453</td>\n",
       "      <td>6.860353</td>\n",
       "      <td>0.253994</td>\n",
       "      <td>0.115878</td>\n",
       "      <td>0.702617</td>\n",
       "      <td>28.148861</td>\n",
       "      <td>2.105710</td>\n",
       "      <td>8.707259</td>\n",
       "      <td>168.537116</td>\n",
       "      <td>2.164946</td>\n",
       "      <td>91.294864</td>\n",
       "      <td>7.141062</td>\n",
       "      <td>9.197104</td>\n",
       "    </tr>\n",
       "    <tr>\n",
       "      <th>min</th>\n",
       "      <td>0.006320</td>\n",
       "      <td>0.000000</td>\n",
       "      <td>0.460000</td>\n",
       "      <td>0.000000</td>\n",
       "      <td>0.385000</td>\n",
       "      <td>3.561000</td>\n",
       "      <td>2.900000</td>\n",
       "      <td>1.129600</td>\n",
       "      <td>1.000000</td>\n",
       "      <td>187.000000</td>\n",
       "      <td>12.600000</td>\n",
       "      <td>0.320000</td>\n",
       "      <td>1.730000</td>\n",
       "      <td>5.000000</td>\n",
       "    </tr>\n",
       "    <tr>\n",
       "      <th>25%</th>\n",
       "      <td>0.082045</td>\n",
       "      <td>0.000000</td>\n",
       "      <td>5.190000</td>\n",
       "      <td>0.000000</td>\n",
       "      <td>0.449000</td>\n",
       "      <td>5.885500</td>\n",
       "      <td>45.025000</td>\n",
       "      <td>2.100175</td>\n",
       "      <td>4.000000</td>\n",
       "      <td>279.000000</td>\n",
       "      <td>17.400000</td>\n",
       "      <td>375.377500</td>\n",
       "      <td>6.950000</td>\n",
       "      <td>17.025000</td>\n",
       "    </tr>\n",
       "    <tr>\n",
       "      <th>50%</th>\n",
       "      <td>0.256510</td>\n",
       "      <td>0.000000</td>\n",
       "      <td>9.690000</td>\n",
       "      <td>0.000000</td>\n",
       "      <td>0.538000</td>\n",
       "      <td>6.208500</td>\n",
       "      <td>77.500000</td>\n",
       "      <td>3.207450</td>\n",
       "      <td>5.000000</td>\n",
       "      <td>330.000000</td>\n",
       "      <td>19.050000</td>\n",
       "      <td>391.440000</td>\n",
       "      <td>11.360000</td>\n",
       "      <td>21.200000</td>\n",
       "    </tr>\n",
       "    <tr>\n",
       "      <th>75%</th>\n",
       "      <td>3.677082</td>\n",
       "      <td>12.500000</td>\n",
       "      <td>18.100000</td>\n",
       "      <td>0.000000</td>\n",
       "      <td>0.624000</td>\n",
       "      <td>6.623500</td>\n",
       "      <td>94.075000</td>\n",
       "      <td>5.188425</td>\n",
       "      <td>24.000000</td>\n",
       "      <td>666.000000</td>\n",
       "      <td>20.200000</td>\n",
       "      <td>396.225000</td>\n",
       "      <td>16.955000</td>\n",
       "      <td>25.000000</td>\n",
       "    </tr>\n",
       "    <tr>\n",
       "      <th>max</th>\n",
       "      <td>88.976200</td>\n",
       "      <td>100.000000</td>\n",
       "      <td>27.740000</td>\n",
       "      <td>1.000000</td>\n",
       "      <td>0.871000</td>\n",
       "      <td>8.780000</td>\n",
       "      <td>100.000000</td>\n",
       "      <td>12.126500</td>\n",
       "      <td>24.000000</td>\n",
       "      <td>711.000000</td>\n",
       "      <td>22.000000</td>\n",
       "      <td>396.900000</td>\n",
       "      <td>37.970000</td>\n",
       "      <td>50.000000</td>\n",
       "    </tr>\n",
       "  </tbody>\n",
       "</table>\n",
       "</div>"
      ],
      "text/plain": [
       "             crim          zn       indus        chas         nox          rm  \\\n",
       "count  506.000000  506.000000  506.000000  506.000000  506.000000  506.000000   \n",
       "mean     3.613524   11.363636   11.136779    0.069170    0.554695    6.284634   \n",
       "std      8.601545   23.322453    6.860353    0.253994    0.115878    0.702617   \n",
       "min      0.006320    0.000000    0.460000    0.000000    0.385000    3.561000   \n",
       "25%      0.082045    0.000000    5.190000    0.000000    0.449000    5.885500   \n",
       "50%      0.256510    0.000000    9.690000    0.000000    0.538000    6.208500   \n",
       "75%      3.677082   12.500000   18.100000    0.000000    0.624000    6.623500   \n",
       "max     88.976200  100.000000   27.740000    1.000000    0.871000    8.780000   \n",
       "\n",
       "              age         dis         rad         tax     ptratio       black  \\\n",
       "count  506.000000  506.000000  506.000000  506.000000  506.000000  506.000000   \n",
       "mean    68.574901    3.795043    9.549407  408.237154   18.455534  356.674032   \n",
       "std     28.148861    2.105710    8.707259  168.537116    2.164946   91.294864   \n",
       "min      2.900000    1.129600    1.000000  187.000000   12.600000    0.320000   \n",
       "25%     45.025000    2.100175    4.000000  279.000000   17.400000  375.377500   \n",
       "50%     77.500000    3.207450    5.000000  330.000000   19.050000  391.440000   \n",
       "75%     94.075000    5.188425   24.000000  666.000000   20.200000  396.225000   \n",
       "max    100.000000   12.126500   24.000000  711.000000   22.000000  396.900000   \n",
       "\n",
       "            lstat        medv  \n",
       "count  506.000000  506.000000  \n",
       "mean    12.653063   22.532806  \n",
       "std      7.141062    9.197104  \n",
       "min      1.730000    5.000000  \n",
       "25%      6.950000   17.025000  \n",
       "50%     11.360000   21.200000  \n",
       "75%     16.955000   25.000000  \n",
       "max     37.970000   50.000000  "
      ]
     },
     "execution_count": 167,
     "metadata": {},
     "output_type": "execute_result"
    }
   ],
   "source": [
    "data.describe()"
   ]
  },
  {
   "cell_type": "markdown",
   "metadata": {},
   "source": [
    "(a)\n",
    "\n",
    "Based on this data set, provide an estimate for the population mean of medv. Call this estimate ˆμ."
   ]
  },
  {
   "cell_type": "code",
   "execution_count": 184,
   "metadata": {},
   "outputs": [
    {
     "name": "stdout",
     "output_type": "stream",
     "text": [
      "The estimate ˆμ  is 22.532806324110698\n"
     ]
    }
   ],
   "source": [
    "#print(\"The estimate ˆμ  is\", data['medv'].mean())\n",
    "mu_hat = np.mean(data.medv) \n",
    "print(\"The estimate ˆμ  is\",mu_hat) # 22.53"
   ]
  },
  {
   "cell_type": "markdown",
   "metadata": {},
   "source": [
    "(b)\n",
    "\n",
    "\n",
    "Provide an estimate of the standard error of ˆμ. Interpret this result. Hint: We can compute the standard\n",
    "error of the sample mean by dividing the sample standard deviation by the square root of the number of\n",
    "observations."
   ]
  },
  {
   "cell_type": "markdown",
   "metadata": {},
   "source": [
    "### Solution"
   ]
  },
  {
   "cell_type": "code",
   "execution_count": 175,
   "metadata": {},
   "outputs": [
    {
     "name": "stdout",
     "output_type": "stream",
     "text": [
      "The estimate of the standard error of ˆμ  is 0.4088611474975351\n"
     ]
    }
   ],
   "source": [
    "print(\"The estimate of the standard error of ˆμ  is\", data['medv'].std()/math.sqrt(len(data)))"
   ]
  },
  {
   "cell_type": "markdown",
   "metadata": {},
   "source": [
    "(c)\n",
    "\n",
    "Now estimate the standard error of ˆμ using the bootstrap. How does this compare to your answer from (b)?"
   ]
  },
  {
   "cell_type": "markdown",
   "metadata": {},
   "source": [
    "### Solution"
   ]
  },
  {
   "cell_type": "code",
   "execution_count": 170,
   "metadata": {},
   "outputs": [
    {
     "name": "stdout",
     "output_type": "stream",
     "text": [
      "mu: 22.59; se: 0.43\n"
     ]
    }
   ],
   "source": [
    "#bootstrap\n",
    "\n",
    "def boot(var, n):\n",
    "    m = np.zeros(n)\n",
    "    for i in range(0, n):\n",
    "        v    = var.sample(frac=1, replace=True)\n",
    "        m[i] = np.mean(v)\n",
    "    res1 = np.mean(m)\n",
    "    res2 = np.std(m)\n",
    "    print('mu: %.2f; se: %.2f' %(res1, res2))\n",
    "    return(res1, res2)\n",
    "\n",
    "result = boot(data.medv, 50) # close to (b)"
   ]
  },
  {
   "cell_type": "markdown",
   "metadata": {},
   "source": [
    "(d)\n",
    "\n",
    "Based on your bootstrap estimate from (c), provide a 95 % confidence interval for the mean of medv. Compare\n",
    "it to the results obtained using t.test(Boston$medv). Hint: You can approximate a 95 % confidence interval\n",
    "using the formula [ˆμ − 2SE(ˆμ), ˆμ + 2SE(ˆμ)]."
   ]
  },
  {
   "cell_type": "markdown",
   "metadata": {},
   "source": [
    "### Solution"
   ]
  },
  {
   "cell_type": "code",
   "execution_count": 177,
   "metadata": {},
   "outputs": [
    {
     "name": "stdout",
     "output_type": "stream",
     "text": [
      "lowerbd:21.74\n",
      "upperbd:23.44\n"
     ]
    }
   ],
   "source": [
    "print('lowerbd:%.2f' %(result[0] - 2*result[1]))\n",
    "print('upperbd:%.2f' %(result[0] + 2*result[1])) "
   ]
  },
  {
   "cell_type": "code",
   "execution_count": 185,
   "metadata": {},
   "outputs": [
    {
     "data": {
      "text/plain": [
       "(21.730322160407493, 23.335290487813904)"
      ]
     },
     "execution_count": 185,
     "metadata": {},
     "output_type": "execute_result"
    }
   ],
   "source": [
    "from scipy import stats\n",
    "stats.t.interval(0.95,               # confidence level\n",
    "                 df = len(data)-1, # degrees of freedom\n",
    "                 loc = mu_hat,       # sample mean\n",
    "                 scale= mu_hat_se)   # sample std dev"
   ]
  },
  {
   "cell_type": "markdown",
   "metadata": {},
   "source": [
    "Based on the bootstrap estimate from (c), a 95 % confidence interval for the mean of medv is [21.74,\n",
    "23.44].\n",
    "The 95 % confidence interval obtained using t.test(Boston$medv) is [21.73032, 23.3352].\n",
    "Bootstrap estimate only 0.02 away for t.test estimate."
   ]
  },
  {
   "cell_type": "markdown",
   "metadata": {},
   "source": [
    "(e)\n",
    "\n",
    "Based on this data set, provide an estimate, ˆμmed, for the median value of medv in the population"
   ]
  },
  {
   "cell_type": "markdown",
   "metadata": {},
   "source": [
    "### Solution"
   ]
  },
  {
   "cell_type": "code",
   "execution_count": 8,
   "metadata": {},
   "outputs": [
    {
     "name": "stdout",
     "output_type": "stream",
     "text": [
      "the estimate, ˆμmed, for the median value of medv in the population is 21.2\n"
     ]
    }
   ],
   "source": [
    "print(\"the estimate, ˆμmed, for the median value of medv in the population is\", data['medv'].median())"
   ]
  },
  {
   "cell_type": "markdown",
   "metadata": {},
   "source": [
    "(f)"
   ]
  },
  {
   "cell_type": "markdown",
   "metadata": {},
   "source": [
    "We now would like to estimate the standard error of ˆμmed.Unfortunately, there is no simple formula for\n",
    "computing the standard error of the median. Instead, estimate the standard error of the median using the\n",
    "bootstrap. Comment on your findings.\n",
    "\n"
   ]
  },
  {
   "cell_type": "markdown",
   "metadata": {},
   "source": [
    "### Solution"
   ]
  },
  {
   "cell_type": "code",
   "execution_count": 198,
   "metadata": {},
   "outputs": [
    {
     "name": "stdout",
     "output_type": "stream",
     "text": [
      "The estimate of the standard error of the median using the bootstrap is 0.38359107132465914, The standard error to the median value is smaller than the mean value.\n"
     ]
    }
   ],
   "source": [
    "def boot(var, n):\n",
    "    m = np.zeros(n)\n",
    "    for i in range(0, n):\n",
    "        v     = var.sample(frac=1, replace=True)\n",
    "        m[i]  = np.median(v)\n",
    "    r = np.std(m) \n",
    "\n",
    "result = boot(data.medv, 1000)\n",
    "\n",
    "print(\"The estimate of the standard error of the median using the bootstrap is 0.38359107132465914, The standard error to the median value is smaller than the mean value.\")\n"
   ]
  },
  {
   "cell_type": "markdown",
   "metadata": {},
   "source": [
    "(G)\n",
    "\n",
    "\n",
    "Based on this data set, provide an estimate for the tenth percentile of medv in Boston suburbs. Call this\n",
    "quantity ˆμ0.1. (You can use the quantile() function.)"
   ]
  },
  {
   "cell_type": "markdown",
   "metadata": {},
   "source": [
    "### Solution"
   ]
  },
  {
   "cell_type": "code",
   "execution_count": 10,
   "metadata": {},
   "outputs": [
    {
     "name": "stdout",
     "output_type": "stream",
     "text": [
      "An estimate for the tenth percentile of medv in Boston suburbs is 12.75\n"
     ]
    }
   ],
   "source": [
    "print(\"An estimate for the tenth percentile of medv in Boston suburbs is\", np.quantile(data['medv'], 0.1))"
   ]
  },
  {
   "cell_type": "markdown",
   "metadata": {},
   "source": [
    "(h)\n",
    "\n",
    "\n",
    "Use the bootstrap to estimate the standard error of ˆμ0.1. Comment on your findings."
   ]
  },
  {
   "cell_type": "markdown",
   "metadata": {},
   "source": [
    "### Solution"
   ]
  },
  {
   "cell_type": "code",
   "execution_count": 207,
   "metadata": {},
   "outputs": [
    {
     "name": "stdout",
     "output_type": "stream",
     "text": [
      "The standard error of ˆμ0.1 is estimated to be 0.533081607261027 using the bootstrap.\n",
      "The standard error of ˆμ0.1 is larger than the standard error to the median value and the mean value.\n"
     ]
    }
   ],
   "source": [
    "def boot(var, n):\n",
    "    m = np.zeros(n)\n",
    "    for i in range(0, n):\n",
    "        v     = var.sample(frac=1, replace=True)\n",
    "        m[i]  = v.quantile(q=0.1)\n",
    "    r = np.std(m) \n",
    "    return r\n",
    "\n",
    "result = boot(data.medv, 50)\n",
    "\n",
    "print(\"The standard error of ˆμ0.1 is estimated to be {} using the bootstrap.\".format(result))\n",
    "\n",
    "print(\"The standard error of ˆμ0.1 is larger than the standard error to the median value and the mean value.\")"
   ]
  },
  {
   "cell_type": "markdown",
   "metadata": {},
   "source": [
    "Typed Porblem 1"
   ]
  },
  {
   "cell_type": "markdown",
   "metadata": {},
   "source": [
    "Simulation-based inference vs parametric bootstrap vs nonparametric bootstrap.\n",
    "A. Simulation-based inference setup: we know the exact/true data-generating mechanism. Instead of taking\n",
    "integrals analytically which is typically impossible for nonlinear functions of the sample, we replace those\n",
    "with Monte Carlo integrals (expressed as sample means).\n",
    "\n",
    "\n",
    "B. Parametric bootstrap setup: we do not know the exact data-generating mechanism, but we make\n",
    "distributional assumptions, then estimate distribution-specific parameters. Then we use this approximate\n",
    "mechanism in place of the true mechanism (A) and make inference as in A.\n",
    "\n",
    "C. Nonparametric bootstrap: discussed in class. We do not make distributional assumptions about our data.\n",
    "Instead, we (implicitly) estimate the distribution of the data using the empirical (cumulative) distribution\n",
    "function (ECDF), and generate samples using the ECDF (which is equivalent to resampling our original\n",
    "sample with replacement.)\n",
    "Setup: consider players A, B and C that will do inference as discussed in A, B and C above, respectively.\n",
    "Specifically,\n",
    "• Player A always knows the exact distribution from which the data came from, and can simulate samples\n",
    "from it.\n",
    "• Player B guesses the parametric family for the distribution of the data (let’s use Normal(mu,\u001b2) here),\n",
    "estimates the parameters using the original sample (here, using the sample mean xbar and sample\n",
    "variance s2), and then simulates new bootstrap samples from Normal(μ = x,\u001b2 = s2) distribution.\n",
    "• Player C does not make parametric assumptions, and instead resamples the original dataset as discussed\n",
    "in class.\n",
    "Suppose the original sample comes from distribution G. We shall estimate the variance and sampling\n",
    "distribution (via a histogram) of the sample variance estimator.\n",
    "\n",
    "For each of the three cases below, complete the following steps:\n",
    "\n",
    "\n",
    "(a) Simulate 1000 datasets (with n=100 for each dataset) from G. For the ith dataset, use set.seed(i). For\n",
    "each dataset, compute the sample variance and save those in a vector. Then compute the sample mean\n",
    "and variance of your vector of sample variances (report these). Also report the histogram based on\n",
    "your vector of sample variances. This is our “golden standard”: the best estimates of “truth”/baseline.\n",
    "\n",
    "\n",
    "(b) Estimate mean and variance using the sample mean xbar and sample variance s2 from the “observed”\n",
    "dataset (specified below). Simulate 1000 datasets (with n=100 for each dataset) from Normal(μ =\n",
    "¯x,\u001b2 = s2). For the ith dataset, use set.seed(i). For each dataset, compute the sample variance and\n",
    "save those in a vector. Then compute the sample mean and variance of your vector of sample variances\n",
    "(report these). Also report the histogram based on your vector of sample variances.\n",
    "\n",
    "\n",
    "(c) Use resampling to generate 1000 datasets (with n = 100 for each dataset) from the observed sample\n",
    "generated from G. For the ith dataset, use set.seed(i). For each dataset, compute the sample variance\n",
    "and save those in a vector. Then compute the sample mean and variance of your vector of sample\n",
    "variances (report these). Also report the histogram based on your vector of sample variances.\n",
    "8\n",
    "\n",
    "\n",
    "(d) Carefully discuss your findings; specifically, accuracy (bias and variance) and merits/drawbacks of\n",
    "parametric vs nonparametric bootstrap.\n",
    "\n",
    "\n",
    "(e) Optional: investigate the accuracy of parametric and nonparametric bootstrap as n increases (i.e., redo\n",
    "Case 1 for n = 10, 25, 50, 100, 200, 400).\n",
    "\n",
    "Case 1: G is normal with mean 0 and variance 1. (I.e., B’s guess about the family is correct)\n",
    "\n",
    "Case 2: G is Student’s t with 4 degrees of freedom. (I.e., B’s guess about the family is very wrong.)\n",
    "\n",
    "Case 3: G is Student’s t with 25 degrees of freedom.\n",
    "\n",
    "In each case, use set.seed(0) to generate n = 100 observations from the specified distribution; this is your\n",
    "observed sample/dataset that you will use to estimate μ and \u001b2 in (b) and resample in (c)"
   ]
  },
  {
   "cell_type": "markdown",
   "metadata": {},
   "source": [
    "Case 1"
   ]
  },
  {
   "cell_type": "code",
   "execution_count": 33,
   "metadata": {},
   "outputs": [],
   "source": [
    "random.seed(0)\n",
    "n=100\n",
    "observed_data = np.random.normal(size=n)\n"
   ]
  },
  {
   "cell_type": "code",
   "execution_count": 16,
   "metadata": {},
   "outputs": [
    {
     "data": {
      "text/plain": [
       "0.9830529939477761"
      ]
     },
     "execution_count": 16,
     "metadata": {},
     "output_type": "execute_result"
    }
   ],
   "source": [
    "sample_variance_a = []\n",
    "for i in range(1,1000):\n",
    "    random.seed(i)\n",
    "    n=100\n",
    "    data = np.random.normal(size=n)\n",
    "    sample_variance_a.append(np.var(data))\n",
    "    \n",
    "np.mean(sample_variance_a)"
   ]
  },
  {
   "cell_type": "code",
   "execution_count": 17,
   "metadata": {},
   "outputs": [
    {
     "data": {
      "text/plain": [
       "0.018815669689019557"
      ]
     },
     "execution_count": 17,
     "metadata": {},
     "output_type": "execute_result"
    }
   ],
   "source": [
    "np.var(sample_variance_a)"
   ]
  },
  {
   "cell_type": "markdown",
   "metadata": {},
   "source": [
    "(b)"
   ]
  },
  {
   "cell_type": "code",
   "execution_count": 34,
   "metadata": {},
   "outputs": [
    {
     "data": {
      "text/plain": [
       "0.9659974124205984"
      ]
     },
     "execution_count": 34,
     "metadata": {},
     "output_type": "execute_result"
    }
   ],
   "source": [
    "sample_variance_b = []\n",
    "sample_mean = observed_data.mean()\n",
    "sample_variance = observed_data.var()\n",
    "for i in range(1, 1000):\n",
    "    random.seed(i)\n",
    "    n = 100\n",
    "    data = np.random.normal(size = n, loc = sample_mean , scale = sample_variance)\n",
    "    sample_variance_b.append(np.var(data))\n",
    "    \n",
    "np.mean(sample_variance_b)\n",
    "    \n"
   ]
  },
  {
   "cell_type": "markdown",
   "metadata": {},
   "source": [
    "(c)"
   ]
  },
  {
   "cell_type": "code",
   "execution_count": 36,
   "metadata": {},
   "outputs": [
    {
     "data": {
      "text/plain": [
       "0.9691584593569904"
      ]
     },
     "execution_count": 36,
     "metadata": {},
     "output_type": "execute_result"
    }
   ],
   "source": [
    "sample_variance_c = []\n",
    "for i in range(1, 1000):\n",
    "    random.seed(i)\n",
    "    n=100\n",
    "    data = np.random.choice(observed_data, n, replace=True)\n",
    "    sample_variance_c.append(np.var(data))\n",
    "    \n",
    "np.mean(sample_variance_c)"
   ]
  },
  {
   "cell_type": "code",
   "execution_count": 37,
   "metadata": {},
   "outputs": [
    {
     "data": {
      "text/plain": [
       "0.016888452432730294"
      ]
     },
     "execution_count": 37,
     "metadata": {},
     "output_type": "execute_result"
    }
   ],
   "source": [
    "np.var(sample_variance_c)"
   ]
  },
  {
   "cell_type": "code",
   "execution_count": 93,
   "metadata": {},
   "outputs": [
    {
     "data": {
      "text/plain": [
       "[Text(0.5, 0, 'sample_variance_c'), Text(0, 0.5, 'Frequency')]"
      ]
     },
     "execution_count": 93,
     "metadata": {},
     "output_type": "execute_result"
    },
    {
     "data": {
      "image/png": "[encoded data removed]",
      "text/plain": [
       "<Figure size 720x216 with 3 Axes>"
      ]
     },
     "metadata": {
      "needs_background": "light"
     },
     "output_type": "display_data"
    }
   ],
   "source": [
    "from matplotlib.pyplot import figure\n",
    "f = plt.figure(figsize=(10,3))\n",
    "ax1 = f.add_subplot(131)\n",
    "ax1.hist(sample_variance_a)\n",
    "ax1.set_title('Sample variances from A')\n",
    "ax1.set(xlabel='sample_variance_a', ylabel='Frequency')\n",
    "\n",
    "ax2 = f.add_subplot(132)\n",
    "ax2.hist(sample_variance_b)\n",
    "ax2.set_title('Sample variances from B')\n",
    "ax2.set(xlabel='sample_variance_b', ylabel='Frequency')\n",
    "\n",
    "ax3 = f.add_subplot(133)\n",
    "ax3.hist(sample_variance_c)\n",
    "ax3.set_title('Sample variances from C')\n",
    "ax3.set(xlabel='sample_variance_c', ylabel='Frequency')"
   ]
  },
  {
   "cell_type": "markdown",
   "metadata": {},
   "source": [
    "In case 1, the method A has the smallest bias but the largest variance.\n",
    "The method B is similar to method C, but have a slightly smaller bias and a slightly bigger variance.\n",
    "The method C has the largest bias but the smallest variance."
   ]
  },
  {
   "cell_type": "markdown",
   "metadata": {},
   "source": [
    "case 2 [7 pt]"
   ]
  },
  {
   "cell_type": "code",
   "execution_count": 109,
   "metadata": {},
   "outputs": [],
   "source": [
    "np.random.seed(0)\n",
    "n=100\n",
    "observed_data = np.random.standard_t(df = 4, size = n)"
   ]
  },
  {
   "cell_type": "markdown",
   "metadata": {},
   "source": [
    "(a) "
   ]
  },
  {
   "cell_type": "code",
   "execution_count": 110,
   "metadata": {},
   "outputs": [
    {
     "data": {
      "text/plain": [
       "2.000319599905891"
      ]
     },
     "execution_count": 110,
     "metadata": {},
     "output_type": "execute_result"
    }
   ],
   "source": [
    "sample_variance_a = []\n",
    "for i in range(1,1000):\n",
    "    random.seed(i)\n",
    "    n=100\n",
    "    data = np.random.standard_t(df = 4, size=n)\n",
    "    sample_variance_a.append(np.var(data))\n",
    "    \n",
    "np.mean(sample_variance_a)"
   ]
  },
  {
   "cell_type": "code",
   "execution_count": 111,
   "metadata": {},
   "outputs": [
    {
     "data": {
      "text/plain": [
       "1.0670192794695725"
      ]
     },
     "execution_count": 111,
     "metadata": {},
     "output_type": "execute_result"
    }
   ],
   "source": [
    "np.var(sample_variance_a)"
   ]
  },
  {
   "cell_type": "markdown",
   "metadata": {},
   "source": [
    "(b) "
   ]
  },
  {
   "cell_type": "code",
   "execution_count": 112,
   "metadata": {},
   "outputs": [
    {
     "data": {
      "text/plain": [
       "1.429617262389443"
      ]
     },
     "execution_count": 112,
     "metadata": {},
     "output_type": "execute_result"
    }
   ],
   "source": [
    "sample_variance_b = []\n",
    "sample_mean = observed_data.mean()\n",
    "sample_variance = observed_data.var()\n",
    "for i in range(1, 1000):\n",
    "    random.seed(i)\n",
    "    n = 100\n",
    "    data = np.random.normal(size = n, loc = sample_mean , scale = np.sqrt(sample_variance))\n",
    "    sample_variance_b.append(np.var(data))\n",
    "    \n",
    "np.mean(sample_variance_b)\n",
    "    "
   ]
  },
  {
   "cell_type": "code",
   "execution_count": 113,
   "metadata": {},
   "outputs": [
    {
     "data": {
      "text/plain": [
       "0.037063627933984204"
      ]
     },
     "execution_count": 113,
     "metadata": {},
     "output_type": "execute_result"
    }
   ],
   "source": [
    "np.var(sample_variance_b)"
   ]
  },
  {
   "cell_type": "markdown",
   "metadata": {},
   "source": [
    "(c) "
   ]
  },
  {
   "cell_type": "code",
   "execution_count": 114,
   "metadata": {},
   "outputs": [
    {
     "data": {
      "text/plain": [
       "1.4365747668114353"
      ]
     },
     "execution_count": 114,
     "metadata": {},
     "output_type": "execute_result"
    }
   ],
   "source": [
    "sample_variance_c = []\n",
    "for i in range(1, 1000):\n",
    "    random.seed(i)\n",
    "    n=100\n",
    "    data = np.random.choice(observed_data, n, replace=True)\n",
    "    sample_variance_c.append(np.var(data))\n",
    "    \n",
    "np.mean(sample_variance_c)"
   ]
  },
  {
   "cell_type": "code",
   "execution_count": 115,
   "metadata": {},
   "outputs": [
    {
     "data": {
      "text/plain": [
       "0.04986385598918044"
      ]
     },
     "execution_count": 115,
     "metadata": {},
     "output_type": "execute_result"
    }
   ],
   "source": [
    "np.var(sample_variance_c)"
   ]
  },
  {
   "cell_type": "code",
   "execution_count": 116,
   "metadata": {},
   "outputs": [
    {
     "data": {
      "text/plain": [
       "[Text(0.5, 0, 'sample_variance_c'), Text(0, 0.5, 'Frequency')]"
      ]
     },
     "execution_count": 116,
     "metadata": {},
     "output_type": "execute_result"
    },
    {
     "data": {
      "image/png": "[encoded data removed]",
      "text/plain": [
       "<Figure size 720x216 with 3 Axes>"
      ]
     },
     "metadata": {
      "needs_background": "light"
     },
     "output_type": "display_data"
    }
   ],
   "source": [
    "from matplotlib.pyplot import figure\n",
    "f = plt.figure(figsize=(10,3))\n",
    "ax1 = f.add_subplot(131)\n",
    "ax1.hist(sample_variance_a)\n",
    "ax1.set_title('Sample variances from A')\n",
    "ax1.set(xlabel='sample_variance_a', ylabel='Frequency')\n",
    "\n",
    "ax2 = f.add_subplot(132)\n",
    "ax2.hist(sample_variance_b)\n",
    "ax2.set_title('Sample variances from B')\n",
    "ax2.set(xlabel='sample_variance_b', ylabel='Frequency')\n",
    "\n",
    "ax3 = f.add_subplot(133)\n",
    "ax3.hist(sample_variance_c)\n",
    "ax3.set_title('Sample variances from C')\n",
    "ax3.set(xlabel='sample_variance_c', ylabel='Frequency')"
   ]
  },
  {
   "cell_type": "markdown",
   "metadata": {},
   "source": [
    "In case 2, the ture variance should be 2.\n",
    "The method A has the smallest bias but the largest variance.\n",
    "The method B has the largest bias but the smallest variance.\n",
    "The method C’s bias is similar to method"
   ]
  },
  {
   "cell_type": "markdown",
   "metadata": {},
   "source": [
    "case3 [7 pt]"
   ]
  },
  {
   "cell_type": "markdown",
   "metadata": {},
   "source": [
    "### Solution"
   ]
  },
  {
   "cell_type": "code",
   "execution_count": 119,
   "metadata": {},
   "outputs": [],
   "source": [
    "np.random.seed(0)\n",
    "n=100\n",
    "observed_data = np.random.standard_t(df = 25, size = n)"
   ]
  },
  {
   "cell_type": "markdown",
   "metadata": {},
   "source": [
    "(a)"
   ]
  },
  {
   "cell_type": "code",
   "execution_count": 120,
   "metadata": {},
   "outputs": [
    {
     "data": {
      "text/plain": [
       "1.0687504492351292"
      ]
     },
     "execution_count": 120,
     "metadata": {},
     "output_type": "execute_result"
    }
   ],
   "source": [
    "sample_variance_a = []\n",
    "for i in range(1,1000):\n",
    "    random.seed(i)\n",
    "    n=100\n",
    "    data = np.random.standard_t(df = 25, size=n)\n",
    "    sample_variance_a.append(np.var(data))\n",
    "    \n",
    "np.mean(sample_variance_a)"
   ]
  },
  {
   "cell_type": "code",
   "execution_count": 121,
   "metadata": {},
   "outputs": [
    {
     "data": {
      "text/plain": [
       "0.026199340492898397"
      ]
     },
     "execution_count": 121,
     "metadata": {},
     "output_type": "execute_result"
    }
   ],
   "source": [
    "np.var(sample_variance_a)"
   ]
  },
  {
   "cell_type": "markdown",
   "metadata": {},
   "source": [
    "(b)"
   ]
  },
  {
   "cell_type": "code",
   "execution_count": 122,
   "metadata": {},
   "outputs": [
    {
     "data": {
      "text/plain": [
       "0.9437628065823308"
      ]
     },
     "execution_count": 122,
     "metadata": {},
     "output_type": "execute_result"
    }
   ],
   "source": [
    "sample_variance_b = []\n",
    "sample_mean = observed_data.mean()\n",
    "sample_variance = observed_data.var()\n",
    "for i in range(1, 1000):\n",
    "    random.seed(i)\n",
    "    n = 100\n",
    "    data = np.random.normal(size = n, loc = sample_mean , scale = np.sqrt(sample_variance))\n",
    "    sample_variance_b.append(np.var(data))\n",
    "    \n",
    "    \n",
    "np.mean(sample_variance_b)\n",
    "    "
   ]
  },
  {
   "cell_type": "code",
   "execution_count": 123,
   "metadata": {},
   "outputs": [
    {
     "data": {
      "text/plain": [
       "0.017283356114991703"
      ]
     },
     "execution_count": 123,
     "metadata": {},
     "output_type": "execute_result"
    }
   ],
   "source": [
    "np.var(sample_variance_b)"
   ]
  },
  {
   "cell_type": "markdown",
   "metadata": {},
   "source": [
    "(c) "
   ]
  },
  {
   "cell_type": "code",
   "execution_count": 124,
   "metadata": {},
   "outputs": [
    {
     "data": {
      "text/plain": [
       "0.949197539966606"
      ]
     },
     "execution_count": 124,
     "metadata": {},
     "output_type": "execute_result"
    }
   ],
   "source": [
    "sample_variance_c = []\n",
    "for i in range(1, 1000):\n",
    "    random.seed(i)\n",
    "    n=100\n",
    "    data = np.random.choice(observed_data, n, replace=True)\n",
    "    sample_variance_c.append(np.var(data))\n",
    "    \n",
    "np.mean(sample_variance_c)"
   ]
  },
  {
   "cell_type": "code",
   "execution_count": 125,
   "metadata": {},
   "outputs": [
    {
     "data": {
      "text/plain": [
       "0.015289563517379843"
      ]
     },
     "execution_count": 125,
     "metadata": {},
     "output_type": "execute_result"
    }
   ],
   "source": [
    "np.var(sample_variance_c)"
   ]
  },
  {
   "cell_type": "code",
   "execution_count": 126,
   "metadata": {},
   "outputs": [
    {
     "data": {
      "text/plain": [
       "[Text(0.5, 0, 'sample_variance_c'), Text(0, 0.5, 'Frequency')]"
      ]
     },
     "execution_count": 126,
     "metadata": {},
     "output_type": "execute_result"
    },
    {
     "data": {
      "image/png": "[encoded data removed]",
      "text/plain": [
       "<Figure size 720x216 with 3 Axes>"
      ]
     },
     "metadata": {
      "needs_background": "light"
     },
     "output_type": "display_data"
    }
   ],
   "source": [
    "from matplotlib.pyplot import figure\n",
    "f = plt.figure(figsize=(10,3))\n",
    "ax1 = f.add_subplot(131)\n",
    "ax1.hist(sample_variance_a)\n",
    "ax1.set_title('Sample variances from A')\n",
    "ax1.set(xlabel='sample_variance_a', ylabel='Frequency')\n",
    "\n",
    "ax2 = f.add_subplot(132)\n",
    "ax2.hist(sample_variance_b)\n",
    "ax2.set_title('Sample variances from B')\n",
    "ax2.set(xlabel='sample_variance_b', ylabel='Frequency')\n",
    "\n",
    "ax3 = f.add_subplot(133)\n",
    "ax3.hist(sample_variance_c)\n",
    "ax3.set_title('Sample variances from C')\n",
    "ax3.set(xlabel='sample_variance_c', ylabel='Frequency')"
   ]
  },
  {
   "cell_type": "markdown",
   "metadata": {},
   "source": [
    "In case 3, the ture variance should be 25/23=1.087.\n",
    "The method A has the smallest bias but the largest variance.\n",
    "The method C has the largest bias but the smallest variance.\n",
    "The method B’s bias and variance are similar to method C, just slightly larger. "
   ]
  },
  {
   "cell_type": "markdown",
   "metadata": {},
   "source": [
    "(e) "
   ]
  },
  {
   "cell_type": "code",
   "execution_count": 7,
   "metadata": {},
   "outputs": [
    {
     "data": {
      "text/plain": [
       "[0.8470130338740675,\n",
       " 1.1107935314197772,\n",
       " 1.2378774559474612,\n",
       " 1.009061838763145,\n",
       " 1.0378418699919216,\n",
       " 0.9718299624889708]"
      ]
     },
     "execution_count": 7,
     "metadata": {},
     "output_type": "execute_result"
    }
   ],
   "source": [
    "mean_b = []\n",
    "var_b = []\n",
    "mean_c = []\n",
    "var_c = []\n",
    "\n",
    "for n in ([10,25,50,100,200,400]):\n",
    "    np.random.seed(0)\n",
    "    observed_data = np.random.normal(size=n)\n",
    "    \n",
    "    #b\n",
    "    sample_variance =[]\n",
    "    sample0_mean = np.mean(observed_data)\n",
    "    sample0_variance = np.var(observed_data)\n",
    "    for i in range(1,1001):\n",
    "        np.random.seed(i)\n",
    "        data =  np.random.normal(size = n, loc = sample0_mean , scale = np.sqrt(sample0_variance))\n",
    "        sample_variance.append(np.var(data))\n",
    "    mean_b.append(np.mean(sample_variance))\n",
    "    var_b.append(np.var(sample_variance))\n",
    "    \n",
    "    #c\n",
    "    sample_variance = []\n",
    "    for i in range(1,1001):\n",
    "        np.random.seed(i)\n",
    "        data =  np.random.choice(observed_data, n, replace=True)\n",
    "        sample_variance.append(np.var(data))\n",
    "        \n",
    "    mean_c.append(np.mean(sample_variance))\n",
    "    var_c.append(np.var(sample_variance))\n",
    "\n",
    "mean_b\n",
    "        \n",
    "        "
   ]
  },
  {
   "cell_type": "code",
   "execution_count": 6,
   "metadata": {},
   "outputs": [
    {
     "data": {
      "text/plain": [
       "[0.8378122457652746,\n",
       " 1.1331659387458708,\n",
       " 1.2403658414008154,\n",
       " 1.0064896574672693,\n",
       " 1.0395759070209443,\n",
       " 0.9736360640468957]"
      ]
     },
     "execution_count": 6,
     "metadata": {},
     "output_type": "execute_result"
    }
   ],
   "source": [
    "mean_c"
   ]
  },
  {
   "cell_type": "code",
   "execution_count": 7,
   "metadata": {},
   "outputs": [
    {
     "data": {
      "text/plain": [
       "[0.1594513430833136,\n",
       " 0.0973087483414672,\n",
       " 0.061942207587914355,\n",
       " 0.019239902318001996,\n",
       " 0.010996167603519392,\n",
       " 0.005062960824265625]"
      ]
     },
     "execution_count": 7,
     "metadata": {},
     "output_type": "execute_result"
    }
   ],
   "source": [
    "var_b"
   ]
  },
  {
   "cell_type": "code",
   "execution_count": 8,
   "metadata": {},
   "outputs": [
    {
     "data": {
      "text/plain": [
       "[0.08376745213852572,\n",
       " 0.1421492995398495,\n",
       " 0.04936471201272329,\n",
       " 0.01653962612102736,\n",
       " 0.007291219916455466,\n",
       " 0.0038595850561258154]"
      ]
     },
     "execution_count": 8,
     "metadata": {},
     "output_type": "execute_result"
    }
   ],
   "source": [
    "var_c"
   ]
  },
  {
   "cell_type": "code",
   "execution_count": 16,
   "metadata": {},
   "outputs": [
    {
     "name": "stderr",
     "output_type": "stream",
     "text": [
      "<ipython-input-16-3e882c4ebc98>:10: MatplotlibDeprecationWarning: Adding an axes using the same arguments as a previous axes currently reuses the earlier instance.  In a future version, a new instance will always be created and returned.  Meanwhile, this warning can be suppressed, and the future behavior ensured, by passing a unique label to each axes instance.\n",
      "  ax2 = f.add_subplot(121)\n"
     ]
    },
    {
     "data": {
      "text/plain": [
       "<matplotlib.legend.Legend at 0x27ba2e30b50>"
      ]
     },
     "execution_count": 16,
     "metadata": {},
     "output_type": "execute_result"
    },
    {
     "data": {
      "image/png": "[encoded data removed]",
      "text/plain": [
       "<Figure size 1080x360 with 1 Axes>"
      ]
     },
     "metadata": {
      "needs_background": "light"
     },
     "output_type": "display_data"
    }
   ],
   "source": [
    "from matplotlib.pyplot import figure\n",
    "f = plt.figure(figsize=(15,5))\n",
    "ax1 = f.add_subplot(121)\n",
    "x = np.array([10,25,50,100,200,400])\n",
    "y1 = [abs(x-1) for x in mean_b]\n",
    "y2 = [abs(x-1) for x in mean_c]\n",
    "ax1.plot(x,y1,marker = 'o')\n",
    "ax1.set_title(\"Bias\")\n",
    "ax1.set(xlabel='n', ylabel='Bias')\n",
    "ax2 = f.add_subplot(121)\n",
    "ax2.plot(x,y2, linestyle = 'dashed',color='orange',marker='+')\n",
    "ax1.legend(loc = 'upper right', labels=[\"Method B\", \"Method C\"])\n",
    "\n",
    "\n",
    "\n",
    "\n",
    "\n",
    "\n"
   ]
  },
  {
   "cell_type": "code",
   "execution_count": 17,
   "metadata": {},
   "outputs": [
    {
     "name": "stderr",
     "output_type": "stream",
     "text": [
      "<ipython-input-17-492deb2a3677>:5: MatplotlibDeprecationWarning: Adding an axes using the same arguments as a previous axes currently reuses the earlier instance.  In a future version, a new instance will always be created and returned.  Meanwhile, this warning can be suppressed, and the future behavior ensured, by passing a unique label to each axes instance.\n",
      "  ax4 = f.add_subplot(122)\n"
     ]
    },
    {
     "data": {
      "text/plain": [
       "[Text(0.5, 0, 'n'), Text(0, 0.5, 'Variance')]"
      ]
     },
     "execution_count": 17,
     "metadata": {},
     "output_type": "execute_result"
    },
    {
     "data": {
      "image/png": "[encoded data removed]",
      "text/plain": [
       "<Figure size 1080x360 with 1 Axes>"
      ]
     },
     "metadata": {
      "needs_background": "light"
     },
     "output_type": "display_data"
    }
   ],
   "source": [
    "f = plt.figure(figsize=(15,5))\n",
    "ax3 = f.add_subplot(122)\n",
    "ax3.plot(x,var_b,marker = 'o')\n",
    "\n",
    "ax4 = f.add_subplot(122)\n",
    "ax4.plot(x,var_c, linestyle = 'dashed',color='orange',marker='+')\n",
    "ax4.legend(loc = 'upper right', labels=[\"Method B\", \"Method C\"])\n",
    "ax3.set_title(\"Variance\")\n",
    "ax3.set(xlabel='n', ylabel='Variance')"
   ]
  },
  {
   "cell_type": "markdown",
   "metadata": {},
   "source": [
    "We can see that as the sample size becomes larger, the variance of the method B(parametric bootstrap) and\n",
    "method C (nonparametric bootstrap) all become smaller. The bias of the two methods mostly tends to\n",
    "become small as the sample size becomes large. However, the bias of the two methods will have a increasing\n",
    "when the sample size grows from 25 to 100.\n",
    "In case 1, the nonparametric bootstrap tends to have smaller variance than the parametric bootstrap no\n",
    "matter how large the sample size is.\n",
    "For the bias, the parametric bootstrap mostly tends to have smaller bias than the nonparametric bootstrap.\n",
    "However, when the sample size is really small, for example, n=10, the nonparametric bootstrap tends to have\n",
    "smaller bias than the parametric bootstrap."
   ]
  },
  {
   "cell_type": "markdown",
   "metadata": {},
   "source": [
    "Typed problem 2 "
   ]
  },
  {
   "cell_type": "markdown",
   "metadata": {},
   "source": [
    "Exploring the wrong way to do cross validation (ch.05 slides, p.26).\n",
    "\n",
    "\n",
    "Investigate the effect of the high dimensionality of features (p) on the out-of-sample misclassification rate\n",
    "when variable prescreening is allowed to “see” the entire data.\n",
    "\n",
    "Let n = 25 be the number of observations per group in a two group classification problem (e.g., cases and\n",
    "controls; i.e., first n Y’s are ones, and the next 25 Y’s are zeros). For p=200*2ˆi (i=0,1,. . . ,5), simulate\n",
    "features as iid Normal(0,1), i.e., there is no group effect. For each feature, perform a two-sample t-test of the\n",
    "equality of the means; keep at most p* features that have the lowest p-values under 0.05 (use p* = 5, 10, 20\n",
    "and 40). I.e., if t tests reject the null hypothesis (that the means are the equal) at the level of significance\n",
    "0.05, use p* =< t features with the lowest p-values. (Some of the entries in the table of results below may be\n",
    "blank; this happens when p* > t.)\n",
    "\n",
    "Report in a table the average ten-fold CV misclassification rate; the columns should correspond to the values\n",
    "16\n",
    "of p* and rows - to the values of i (equivalently, p). Briefly discuss your findings.\n",
    "A couple of suggestion:\n",
    "\n",
    "\n",
    "1. To implement K-fold cross-validation by hand (required for this problem set), peruse the example from\n",
    "the ISLR lab on p.250 in order to define folds.\n",
    "\n",
    "\n",
    "2. When simulating the data, in order to reduce the amount of variability in the results due to different\n",
    "random seeds and to ensure that the predictors for smaller p are nested within those for larger p,\n",
    "generate all predictors at once as\n",
    "set.seed(0); nr = 50; nc = 200*2^5; # nc = 6400\n",
    "M = matrix(rnorm(nr*nc),nrow=50);\n",
    "and use X = M[,1:p] as the design matrix for the problem with p covariates.\n",
    "\n",
    "A remark: here, the choice of p* serves as a means to variable selection after prescreening. Variable selection\n",
    "is a subject of Ch.06. We will likely revisit this problem after Ch.06 has been covered. E.g., for each p, retain\n",
    "p* candidate predictors, and use those as input for more formal variable selection using tools from Ch.06."
   ]
  },
  {
   "cell_type": "code",
   "execution_count": 18,
   "metadata": {},
   "outputs": [],
   "source": [
    "np.random.seed(0)\n",
    "nr = 50\n",
    "nc = 6400\n",
    "M=  np.random.normal(size = nr*nc)\n",
    "M = np.reshape(M, (50,6400))\n",
    "k=[1,2,3,4,5,6,7,8,9,10]\n",
    "folds = np.random.choice(k, nr, replace=True)\n",
    "Y = np.repeat([0,1],repeats=25)"
   ]
  },
  {
   "cell_type": "code",
   "execution_count": 19,
   "metadata": {},
   "outputs": [
    {
     "data": {
      "text/plain": [
       "array([[nan, nan, nan, nan],\n",
       "       [nan, nan, nan, nan],\n",
       "       [nan, nan, nan, nan],\n",
       "       [nan, nan, nan, nan],\n",
       "       [nan, nan, nan, nan],\n",
       "       [nan, nan, nan, nan]])"
      ]
     },
     "execution_count": 19,
     "metadata": {},
     "output_type": "execute_result"
    }
   ],
   "source": [
    "ivector =[0,1,2,3,4,5]\n",
    "pstarvector = [5,10,20,40]\n",
    "CV_error_matrix = np.empty((6,4))\n",
    "CV_error_matrix[:] = np.nan \n",
    "CV_error_matrix"
   ]
  },
  {
   "cell_type": "code",
   "execution_count": 20,
   "metadata": {},
   "outputs": [],
   "source": [
    "for i_idx in range(0, len(ivector)):\n",
    "    for pstar_idx in range(0, len(pstarvector)):\n",
    "        i = ivector[i_idx]\n",
    "        pstar = pstarvector[pstar_idx]\n",
    "        \n",
    "        p = (200)*(2**i)\n",
    "        X = M[:,0:p]\n",
    "        x1 = X[0:24]\n",
    "        x2 = X[25:49]\n",
    "        \n",
    "        pvalues =(stats.ttest_ind(x1,x2))\n",
    "        asubset = (pvalues[1]<0.05) & (rankdata(pvalues[1])<=pstar)\n",
    "        XYdf = pd.DataFrame(X[:,asubset])\n",
    "        Y1 = pd.DataFrame(Y, columns = ['Y'])\n",
    "        XYdf = pd.concat([XYdf,Y1],axis=1)\n",
    "        Err = 0\n",
    "        for leave in range(2,10):\n",
    "            XYdftrain = XYdf[folds!=leave]\n",
    "            col = ['x'+ str(i) for i in range(len(XYdftrain.columns)-1)]\n",
    "            col.append('Y')\n",
    "            XYdftrain.columns =col\n",
    "            all_columns = \"+\".join(XYdftrain.columns[0:len(XYdftrain.columns)-1])\n",
    "            my_formula = \"Y~\" + all_columns\n",
    "            logitmodel = smf.glm(formula = my_formula , data= XYdftrain, family=sm.families.Binomial())\n",
    "            XYdftest = XYdf[folds==leave]\n",
    "            \n",
    "            "
   ]
  },
  {
   "cell_type": "code",
   "execution_count": 21,
   "metadata": {
    "scrolled": true
   },
   "outputs": [
    {
     "data": {
      "text/html": [
       "<div>\n",
       "<style scoped>\n",
       "    .dataframe tbody tr th:only-of-type {\n",
       "        vertical-align: middle;\n",
       "    }\n",
       "\n",
       "    .dataframe tbody tr th {\n",
       "        vertical-align: top;\n",
       "    }\n",
       "\n",
       "    .dataframe thead th {\n",
       "        text-align: right;\n",
       "    }\n",
       "</style>\n",
       "<table border=\"1\" class=\"dataframe\">\n",
       "  <thead>\n",
       "    <tr style=\"text-align: right;\">\n",
       "      <th></th>\n",
       "      <th>0</th>\n",
       "      <th>1</th>\n",
       "      <th>2</th>\n",
       "      <th>3</th>\n",
       "      <th>4</th>\n",
       "      <th>5</th>\n",
       "      <th>6</th>\n",
       "      <th>7</th>\n",
       "      <th>8</th>\n",
       "      <th>9</th>\n",
       "      <th>...</th>\n",
       "      <th>31</th>\n",
       "      <th>32</th>\n",
       "      <th>33</th>\n",
       "      <th>34</th>\n",
       "      <th>35</th>\n",
       "      <th>36</th>\n",
       "      <th>37</th>\n",
       "      <th>38</th>\n",
       "      <th>39</th>\n",
       "      <th>Y</th>\n",
       "    </tr>\n",
       "  </thead>\n",
       "  <tbody>\n",
       "    <tr>\n",
       "      <th>3</th>\n",
       "      <td>0.197215</td>\n",
       "      <td>-1.109317</td>\n",
       "      <td>-0.135954</td>\n",
       "      <td>-0.852593</td>\n",
       "      <td>0.097838</td>\n",
       "      <td>0.656100</td>\n",
       "      <td>-0.206410</td>\n",
       "      <td>1.672096</td>\n",
       "      <td>1.032021</td>\n",
       "      <td>-0.325966</td>\n",
       "      <td>...</td>\n",
       "      <td>-0.828679</td>\n",
       "      <td>0.894533</td>\n",
       "      <td>-0.789235</td>\n",
       "      <td>-0.046078</td>\n",
       "      <td>1.573373</td>\n",
       "      <td>1.270726</td>\n",
       "      <td>0.099393</td>\n",
       "      <td>0.752641</td>\n",
       "      <td>-0.108359</td>\n",
       "      <td>0</td>\n",
       "    </tr>\n",
       "    <tr>\n",
       "      <th>9</th>\n",
       "      <td>-1.088471</td>\n",
       "      <td>0.904926</td>\n",
       "      <td>-0.992570</td>\n",
       "      <td>-0.888576</td>\n",
       "      <td>2.040166</td>\n",
       "      <td>1.601433</td>\n",
       "      <td>1.677672</td>\n",
       "      <td>-0.171091</td>\n",
       "      <td>1.388496</td>\n",
       "      <td>-0.191526</td>\n",
       "      <td>...</td>\n",
       "      <td>0.168297</td>\n",
       "      <td>1.946411</td>\n",
       "      <td>1.937735</td>\n",
       "      <td>-0.024976</td>\n",
       "      <td>-0.286401</td>\n",
       "      <td>-0.848337</td>\n",
       "      <td>-0.800029</td>\n",
       "      <td>0.292244</td>\n",
       "      <td>1.353391</td>\n",
       "      <td>0</td>\n",
       "    </tr>\n",
       "    <tr>\n",
       "      <th>34</th>\n",
       "      <td>-0.757316</td>\n",
       "      <td>0.058134</td>\n",
       "      <td>0.628784</td>\n",
       "      <td>-0.697509</td>\n",
       "      <td>-1.076522</td>\n",
       "      <td>0.058884</td>\n",
       "      <td>-0.377997</td>\n",
       "      <td>-0.011975</td>\n",
       "      <td>-0.377550</td>\n",
       "      <td>-0.157268</td>\n",
       "      <td>...</td>\n",
       "      <td>-0.348823</td>\n",
       "      <td>1.639842</td>\n",
       "      <td>-1.474451</td>\n",
       "      <td>0.201433</td>\n",
       "      <td>0.050951</td>\n",
       "      <td>-0.140865</td>\n",
       "      <td>0.191090</td>\n",
       "      <td>1.541627</td>\n",
       "      <td>1.972755</td>\n",
       "      <td>1</td>\n",
       "    </tr>\n",
       "    <tr>\n",
       "      <th>41</th>\n",
       "      <td>0.732568</td>\n",
       "      <td>-1.101042</td>\n",
       "      <td>-1.416241</td>\n",
       "      <td>-1.173799</td>\n",
       "      <td>-0.533539</td>\n",
       "      <td>-2.082140</td>\n",
       "      <td>-0.838467</td>\n",
       "      <td>-1.018172</td>\n",
       "      <td>0.817747</td>\n",
       "      <td>1.840743</td>\n",
       "      <td>...</td>\n",
       "      <td>0.055676</td>\n",
       "      <td>-0.327185</td>\n",
       "      <td>-0.461940</td>\n",
       "      <td>-0.300436</td>\n",
       "      <td>-0.465776</td>\n",
       "      <td>-1.237725</td>\n",
       "      <td>-1.369259</td>\n",
       "      <td>1.577525</td>\n",
       "      <td>1.224234</td>\n",
       "      <td>1</td>\n",
       "    </tr>\n",
       "  </tbody>\n",
       "</table>\n",
       "<p>4 rows × 41 columns</p>\n",
       "</div>"
      ],
      "text/plain": [
       "           0         1         2         3         4         5         6  \\\n",
       "3   0.197215 -1.109317 -0.135954 -0.852593  0.097838  0.656100 -0.206410   \n",
       "9  -1.088471  0.904926 -0.992570 -0.888576  2.040166  1.601433  1.677672   \n",
       "34 -0.757316  0.058134  0.628784 -0.697509 -1.076522  0.058884 -0.377997   \n",
       "41  0.732568 -1.101042 -1.416241 -1.173799 -0.533539 -2.082140 -0.838467   \n",
       "\n",
       "           7         8         9  ...        31        32        33        34  \\\n",
       "3   1.672096  1.032021 -0.325966  ... -0.828679  0.894533 -0.789235 -0.046078   \n",
       "9  -0.171091  1.388496 -0.191526  ...  0.168297  1.946411  1.937735 -0.024976   \n",
       "34 -0.011975 -0.377550 -0.157268  ... -0.348823  1.639842 -1.474451  0.201433   \n",
       "41 -1.018172  0.817747  1.840743  ...  0.055676 -0.327185 -0.461940 -0.300436   \n",
       "\n",
       "          35        36        37        38        39  Y  \n",
       "3   1.573373  1.270726  0.099393  0.752641 -0.108359  0  \n",
       "9  -0.286401 -0.848337 -0.800029  0.292244  1.353391  0  \n",
       "34  0.050951 -0.140865  0.191090  1.541627  1.972755  1  \n",
       "41 -0.465776 -1.237725 -1.369259  1.577525  1.224234  1  \n",
       "\n",
       "[4 rows x 41 columns]"
      ]
     },
     "execution_count": 21,
     "metadata": {},
     "output_type": "execute_result"
    }
   ],
   "source": [
    "XYdftest"
   ]
  },
  {
   "cell_type": "code",
   "execution_count": null,
   "metadata": {},
   "outputs": [],
   "source": []
  }
 ],
 "metadata": {
  "kernelspec": {
   "display_name": "Python 3",
   "language": "python",
   "name": "python3"
  },
  "language_info": {
   "codemirror_mode": {
    "name": "ipython",
    "version": 3
   },
   "file_extension": ".py",
   "mimetype": "text/x-python",
   "name": "python",
   "nbconvert_exporter": "python",
   "pygments_lexer": "ipython3",
   "version": "3.7.6"
  }
 },
 "nbformat": 4,
 "nbformat_minor": 4
}
